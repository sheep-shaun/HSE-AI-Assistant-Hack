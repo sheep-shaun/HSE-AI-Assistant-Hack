{
 "cells": [
  {
   "cell_type": "code",
   "execution_count": 4,
   "id": "b7eb8e4d-faf9-4ab3-a911-68b2092e4421",
   "metadata": {},
   "outputs": [],
   "source": [
    "import typing as tp\n",
    "import httpx\n",
    "import json\n",
    "import re\n"
   ]
  },
  {
   "cell_type": "code",
   "execution_count": 5,
   "id": "486a5413-11b5-41ba-acdb-0301049ac6d5",
   "metadata": {},
   "outputs": [],
   "source": [
    "DUCK_DUCK_GO_URL = \"https://duckduckgo.com/duckchat/v1/chat\""
   ]
  },
  {
   "cell_type": "code",
   "execution_count": 25,
   "id": "20b32809-a12d-46cc-9a8c-ccfcbbe74f0a",
   "metadata": {},
   "outputs": [],
   "source": [
    "class LLM:\n",
    "    def __init__(\n",
    "        self, \n",
    "        llm_chat_url: str, \n",
    "        model: tp.Literal[\n",
    "            \"claude-3-haiku-20240307\",\n",
    "            \"meta-llama/Meta-Llama-3.1-70B-Instruct-Turbo\",\n",
    "            \"mistralai/Mixtral-8x7B-Instruct-v0.1\",\n",
    "            \"gpt-4o-mini\"\n",
    "        ] = \"meta-llama/Meta-Llama-3.1-70B-Instruct-Turbo\",\n",
    "        system_prompt: str = \"\"\n",
    "    ):\n",
    "        self.url = llm_chat_url\n",
    "        self.model = model\n",
    "        self.system_prompt = system_prompt\n",
    "        \n",
    "        self.client = httpx.Client(headers={\n",
    "            \"accept\": \"text/event-stream\",\n",
    "            \"accept-language\": \"en-US,en;q=0.9,ru-RU;q=0.8,ru;q=0.7\",\n",
    "            \"content-type\": \"application/json\",\n",
    "            \"cookie\": \"dcm=5\",\n",
    "            \"dnt\": \"1\",\n",
    "            \"origin\": \"https://duckduckgo.com\",\n",
    "            \"priority\": \"u=1, i\",\n",
    "            \"referer\": \"https://duckduckgo.com/\",\n",
    "            \"sec-ch-ua\": '\"Google Chrome\";v=\"129\", \"Not=A?Brand\";v=\"8\", \"Chromium\";v=\"129\"',\n",
    "            \"sec-ch-ua-mobile\": \"?0\",\n",
    "            \"sec-ch-ua-platform\": '\"macOS\"',\n",
    "            \"sec-fetch-dest\": \"empty\",\n",
    "            \"sec-fetch-mode\": \"cors\",\n",
    "            \"sec-fetch-site\": \"same-origin\",\n",
    "            \"user-agent\": \"Mozilla/5.0 (Macintosh; Intel Mac OS X 10_15_7) AppleWebKit/537.36 (KHTML, like Gecko) Chrome/129.0.0.0 Safari/537.36\",\n",
    "            \"x-vqd-4\": \"4-248234416339843192477661751153195587515\",\n",
    "        })\n",
    "\n",
    "    def _assemble_body(self, prompt: str):\n",
    "        return {\n",
    "            \"model\": self.model,\n",
    "            \"messages\": [\n",
    "                {\n",
    "                    \"role\": \"system\",\n",
    "                    \"content\": self.system_prompt\n",
    "                },\n",
    "                {\n",
    "                    \"role\": \"user\", \n",
    "                    \"content\": prompt\n",
    "                }\n",
    "            ],\n",
    "        }\n",
    "\n",
    "    def __parse_chunk(self, chunk: str) -> str :\n",
    "        if len(chunk) == 0:\n",
    "            return \"\"\n",
    "        payload = chunk[5:]\n",
    "        try:\n",
    "            return json.loads(payload)[\"message\"]\n",
    "        except Exception as e:\n",
    "            print(e, chunk)\n",
    "            return \"\"\n",
    "        \n",
    "    def prompt(self, prompt) -> str:\n",
    "        response = \"\"\n",
    "        \n",
    "        with self.client.stream(\"POST\", self.url,  json=self._assemble_body(prompt), timeout=120) as r:\n",
    "            for chunk in r.iter_lines():\n",
    "                new_data = self.__parse_chunk(chunk)\n",
    "                response += new_data\n",
    "\n",
    "        return response"
   ]
  },
  {
   "cell_type": "code",
   "execution_count": 26,
   "id": "e5b0a9f9-781e-497a-add5-59d6961543c0",
   "metadata": {},
   "outputs": [],
   "source": [
    "llama70b = LLM(\n",
    "    llm_chat_url=DUCK_DUCK_GO_URL,\n",
    "    model=\"meta-llama/Meta-Llama-3.1-70B-Instruct-Turbo\",\n",
    "    system_prompt=\"\"\n",
    ")"
   ]
  },
  {
   "cell_type": "code",
   "execution_count": 27,
   "id": "887b7a74-98c7-4fd1-bf61-b0cf72790b73",
   "metadata": {},
   "outputs": [
    {
     "name": "stdout",
     "output_type": "stream",
     "text": [
      "Expecting value: line 1 column 3 (char 2) data: [DONE]\n",
      "Привет! Хорошо, спасибо. Как у вас дела?\n"
     ]
    }
   ],
   "source": [
    "response = llama70b.prompt(\n",
    "    prompt=\"Привет, как дела!?\"\n",
    ")\n",
    "\n",
    "print(response)"
   ]
  },
  {
   "cell_type": "code",
   "execution_count": null,
   "id": "2af98476-42bf-4aad-a610-4af4eabfe55c",
   "metadata": {},
   "outputs": [],
   "source": []
  }
 ],
 "metadata": {
  "kernelspec": {
   "display_name": "Python [conda env:.imgenv-container-for-5-mins-0]",
   "language": "python",
   "name": "conda-env-.imgenv-container-for-5-mins-0-py"
  },
  "language_info": {
   "codemirror_mode": {
    "name": "ipython",
    "version": 3
   },
   "file_extension": ".py",
   "mimetype": "text/x-python",
   "name": "python",
   "nbconvert_exporter": "python",
   "pygments_lexer": "ipython3",
   "version": "3.12.3"
  }
 },
 "nbformat": 4,
 "nbformat_minor": 5
}
