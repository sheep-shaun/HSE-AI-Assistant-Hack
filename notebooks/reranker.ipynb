{
 "cells": [
  {
   "cell_type": "code",
   "execution_count": 49,
   "id": "1122bb99-7cef-4ba5-bc76-23b103e30354",
   "metadata": {
    "scrolled": true
   },
   "outputs": [],
   "source": [
    "from transformers import BertModel, BertTokenizer\n",
    "from catboost import CatBoostClassifier\n",
    "from sklearn.metrics import roc_auc_score, classification_report\n",
    "from tqdm.auto import tqdm\n",
    "tqdm.pandas()\n",
    "import pandas as pd\n",
    "import numpy as np\n",
    "import torch"
   ]
  },
  {
   "cell_type": "code",
   "execution_count": 50,
   "id": "edc6b621-7955-4ae2-a6a0-ef05b0608b6f",
   "metadata": {},
   "outputs": [
    {
     "name": "stdout",
     "output_type": "stream",
     "text": [
      "Loading models..."
     ]
    }
   ],
   "source": [
    "print(\"Loading models...\", end=\"\")\n",
    "model_name = \"DeepPavlov/rubert-base-cased-sentence\"\n",
    "tokenizer = BertTokenizer.from_pretrained(model_name)\n",
    "model = BertModel.from_pretrained(model_name).cuda().eval()\n",
    "\n",
    "# from sentence_transformers import SentenceTransformer\n",
    "# model = SentenceTransformer(\"BAAI/bge-m3\")\n",
    "\n",
    "\n",
    "# # Load model directly\n",
    "# from transformers import AutoTokenizer, AutoModelForMaskedLM, AutoModel\n",
    "\n",
    "# tokenizer = AutoTokenizer.from_pretrained(\"Tochka-AI/ruRoPEBert-e5-base-512\", trust_remote_code=True)\n",
    "# model = AutoModel.from_pretrained(\"Tochka-AI/ruRoPEBert-e5-base-512\", trust_remote_code=True, attn_implementation='eager').cuda()\n",
    "\n",
    "def get_sentence_embedding(sentence: str) -> torch.Tensor:\n",
    "    inputs = tokenizer(sentence, return_tensors=\"pt\", truncation=True, padding=True, max_length=256)\n",
    "    \n",
    "    inputs['input_ids'] = inputs['input_ids'].cuda()\n",
    "    inputs['token_type_ids'] = inputs['token_type_ids'].cuda()\n",
    "    inputs['attention_mask'] = inputs['attention_mask'].cuda()\n",
    "\n",
    "    with torch.no_grad():\n",
    "        outputs = model(**inputs)\n",
    "        embedding = outputs.last_hidden_state[:, 0, :].squeeze().cpu().numpy()\n",
    "        \n",
    "    return embedding\n",
    "\n",
    "\n",
    "# def get_sentence_embedding(sentence: str) -> torch.Tensor:\n",
    "#     with torch.no_grad():\n",
    "#         embedding = model.encode(sentence)\n",
    "        \n",
    "#     return embedding\n",
    "\n",
    "# def get_sentence_embedding(sentence: str) -> torch.Tensor:\n",
    "#     inputs = tokenizer(sentence, return_tensors=\"pt\", truncation=True, padding=True, max_length=512)\n",
    "    \n",
    "#     inputs['input_ids'] = inputs['input_ids'].cuda()\n",
    "#     inputs['attention_mask'] = inputs['attention_mask'].cuda()\n",
    "\n",
    "#     with torch.inference_mode():\n",
    "#         pooled_output = model(**inputs).pooler_output[0].cpu().numpy()\n",
    "        \n",
    "#     return pooled_output"
   ]
  },
  {
   "cell_type": "code",
   "execution_count": 51,
   "id": "8942f627-ea0f-4ad0-a812-9e033906aeb1",
   "metadata": {},
   "outputs": [],
   "source": [
    "train = pd.read_excel(\"../data/train/merged_executed.xlsx\")\n",
    "generated = pd.read_excel(\"../data/train/merged_executed_generated.xlsx\")"
   ]
  },
  {
   "cell_type": "code",
   "execution_count": 52,
   "id": "2532f73e-afa6-4252-b2b5-ffaed77c7b69",
   "metadata": {},
   "outputs": [
    {
     "data": {
      "text/plain": [
       "'Ошибка в открытых тестах. \\n\\nОбратите внимание, что цвет должен соответствовать условиям задания.'"
      ]
     },
     "execution_count": 52,
     "metadata": {},
     "output_type": "execute_result"
    }
   ],
   "source": [
    "generated[\"author_comment\"][0]"
   ]
  },
  {
   "cell_type": "code",
   "execution_count": 53,
   "id": "b440e453-1164-48eb-bf66-77702178e26c",
   "metadata": {},
   "outputs": [
    {
     "name": "stderr",
     "output_type": "stream",
     "text": [
      "100%|██████████| 347/347 [00:02<00:00, 163.83it/s]\n"
     ]
    },
    {
     "data": {
      "text/plain": [
       "((347, 768), (347,))"
      ]
     },
     "execution_count": 53,
     "metadata": {},
     "output_type": "execute_result"
    }
   ],
   "source": [
    "real_train_answer_embeddings = np.stack(train.author_comment.progress_apply(get_sentence_embedding).to_numpy())\n",
    "real_y = np.ones(real_train_answer_embeddings.shape[0])\n",
    "\n",
    "real_train_answer_embeddings.shape, real_y.shape"
   ]
  },
  {
   "cell_type": "code",
   "execution_count": 54,
   "id": "c92b9b44-f5e0-47b1-bdcc-b3dc77c92f71",
   "metadata": {},
   "outputs": [
    {
     "name": "stderr",
     "output_type": "stream",
     "text": [
      "100%|██████████| 676/676 [00:04<00:00, 164.75it/s]\n"
     ]
    },
    {
     "data": {
      "text/plain": [
       "((676, 768), (676,))"
      ]
     },
     "execution_count": 54,
     "metadata": {},
     "output_type": "execute_result"
    }
   ],
   "source": [
    "fake_train_answer_embeddings = np.stack(generated.author_comment.progress_apply(get_sentence_embedding).to_numpy())\n",
    "fake_y = np.zeros(fake_train_answer_embeddings.shape[0])\n",
    "\n",
    "fake_train_answer_embeddings.shape, fake_y.shape"
   ]
  },
  {
   "cell_type": "code",
   "execution_count": 55,
   "id": "e8b69937-f0bd-4413-958d-6d6fdd3c7948",
   "metadata": {},
   "outputs": [
    {
     "data": {
      "text/plain": [
       "((347, 768), (676, 768))"
      ]
     },
     "execution_count": 55,
     "metadata": {},
     "output_type": "execute_result"
    }
   ],
   "source": [
    "real_train_answer_embeddings.shape, fake_train_answer_embeddings.shape"
   ]
  },
  {
   "cell_type": "code",
   "execution_count": 56,
   "id": "79ef2b7f-14d0-420b-80ff-167139672ed5",
   "metadata": {},
   "outputs": [
    {
     "data": {
      "text/plain": [
       "((347,), (676,))"
      ]
     },
     "execution_count": 56,
     "metadata": {},
     "output_type": "execute_result"
    }
   ],
   "source": [
    "real_y.shape, fake_y.shape"
   ]
  },
  {
   "cell_type": "code",
   "execution_count": 57,
   "id": "94845899-a1c1-4dba-91f5-6c8d2fbc158e",
   "metadata": {},
   "outputs": [
    {
     "data": {
      "text/plain": [
       "((1023, 768), (1023, 1))"
      ]
     },
     "execution_count": 57,
     "metadata": {},
     "output_type": "execute_result"
    }
   ],
   "source": [
    "X, y = np.vstack([real_train_answer_embeddings, fake_train_answer_embeddings]), np.vstack([real_y.reshape(-1, 1), fake_y.reshape(-1, 1)])\n",
    "X.shape, y.shape"
   ]
  },
  {
   "cell_type": "code",
   "execution_count": 58,
   "id": "b1596527-c4cb-4ee2-9de4-c38822400007",
   "metadata": {},
   "outputs": [],
   "source": [
    "from sklearn.model_selection import train_test_split\n",
    "\n",
    "X_train, X_test, y_train, y_test = train_test_split(X, y, stratify=y, test_size=0.2, random_state=42)"
   ]
  },
  {
   "cell_type": "code",
   "execution_count": 72,
   "id": "5bbe401f-725a-45b1-9fcb-fddb7b2948cf",
   "metadata": {},
   "outputs": [
    {
     "data": {
      "text/plain": [
       "0.3391984359726295"
      ]
     },
     "execution_count": 72,
     "metadata": {},
     "output_type": "execute_result"
    }
   ],
   "source": [
    "y.mean()"
   ]
  },
  {
   "cell_type": "markdown",
   "id": "9df0a4ba-0bbb-45d6-bbd5-e771c063b373",
   "metadata": {},
   "source": [
    "# Feature wise"
   ]
  },
  {
   "cell_type": "code",
   "execution_count": 80,
   "id": "50c683a1-3c8e-4551-99cc-519a6fe7cd01",
   "metadata": {},
   "outputs": [],
   "source": [
    "reranker = CatBoostClassifier(\n",
    "    random_state=42,\n",
    "    verbose=10,\n",
    "    eval_metric=\"AUC\",\n",
    "    class_weights=[0.3, 0.7]\n",
    ")"
   ]
  },
  {
   "cell_type": "code",
   "execution_count": 81,
   "id": "135e4d5f-031c-4ec9-ae8d-297ae8b109ab",
   "metadata": {
    "scrolled": true
   },
   "outputs": [
    {
     "name": "stdout",
     "output_type": "stream",
     "text": [
      "Learning rate set to 0.030155\n",
      "0:\ttest: 0.7047619\tbest: 0.7047619 (0)\ttotal: 37.6ms\tremaining: 37.6s\n",
      "10:\ttest: 0.8073545\tbest: 0.8126455 (9)\ttotal: 186ms\tremaining: 16.7s\n",
      "20:\ttest: 0.8127513\tbest: 0.8153968 (13)\ttotal: 346ms\tremaining: 16.1s\n",
      "30:\ttest: 0.8258730\tbest: 0.8268254 (29)\ttotal: 510ms\tremaining: 15.9s\n",
      "40:\ttest: 0.8292593\tbest: 0.8329630 (38)\ttotal: 678ms\tremaining: 15.9s\n",
      "50:\ttest: 0.8373016\tbest: 0.8397354 (49)\ttotal: 852ms\tremaining: 15.9s\n",
      "60:\ttest: 0.8456614\tbest: 0.8462963 (59)\ttotal: 1.05s\tremaining: 16.2s\n",
      "70:\ttest: 0.8493651\tbest: 0.8493651 (70)\ttotal: 1.24s\tremaining: 16.2s\n",
      "80:\ttest: 0.8502116\tbest: 0.8513757 (72)\ttotal: 1.42s\tremaining: 16.2s\n",
      "90:\ttest: 0.8542328\tbest: 0.8549735 (89)\ttotal: 1.62s\tremaining: 16.2s\n",
      "100:\ttest: 0.8528571\tbest: 0.8555026 (91)\ttotal: 1.81s\tremaining: 16.2s\n",
      "110:\ttest: 0.8586772\tbest: 0.8586772 (110)\ttotal: 2.01s\tremaining: 16.1s\n",
      "120:\ttest: 0.8565608\tbest: 0.8586772 (110)\ttotal: 2.2s\tremaining: 16s\n",
      "130:\ttest: 0.8614286\tbest: 0.8614286 (130)\ttotal: 2.38s\tremaining: 15.8s\n",
      "140:\ttest: 0.8628042\tbest: 0.8637566 (134)\ttotal: 2.56s\tremaining: 15.6s\n",
      "150:\ttest: 0.8622751\tbest: 0.8638624 (143)\ttotal: 2.75s\tremaining: 15.5s\n",
      "160:\ttest: 0.8617460\tbest: 0.8638624 (143)\ttotal: 2.94s\tremaining: 15.3s\n",
      "170:\ttest: 0.8618519\tbest: 0.8638624 (143)\ttotal: 3.13s\tremaining: 15.2s\n",
      "180:\ttest: 0.8626984\tbest: 0.8638624 (143)\ttotal: 3.33s\tremaining: 15.1s\n",
      "190:\ttest: 0.8642857\tbest: 0.8642857 (190)\ttotal: 3.52s\tremaining: 14.9s\n",
      "200:\ttest: 0.8655556\tbest: 0.8655556 (200)\ttotal: 3.72s\tremaining: 14.8s\n",
      "210:\ttest: 0.8664021\tbest: 0.8664021 (210)\ttotal: 3.92s\tremaining: 14.6s\n",
      "220:\ttest: 0.8639683\tbest: 0.8664021 (210)\ttotal: 4.11s\tremaining: 14.5s\n",
      "230:\ttest: 0.8668254\tbest: 0.8668254 (229)\ttotal: 4.3s\tremaining: 14.3s\n",
      "240:\ttest: 0.8655556\tbest: 0.8675661 (236)\ttotal: 4.5s\tremaining: 14.2s\n",
      "250:\ttest: 0.8651323\tbest: 0.8675661 (236)\ttotal: 4.69s\tremaining: 14s\n",
      "260:\ttest: 0.8646032\tbest: 0.8675661 (236)\ttotal: 4.88s\tremaining: 13.8s\n",
      "270:\ttest: 0.8646032\tbest: 0.8675661 (236)\ttotal: 5.08s\tremaining: 13.7s\n",
      "280:\ttest: 0.8649206\tbest: 0.8675661 (236)\ttotal: 5.27s\tremaining: 13.5s\n",
      "290:\ttest: 0.8642857\tbest: 0.8675661 (236)\ttotal: 5.46s\tremaining: 13.3s\n",
      "300:\ttest: 0.8656614\tbest: 0.8675661 (236)\ttotal: 5.65s\tremaining: 13.1s\n",
      "310:\ttest: 0.8652381\tbest: 0.8675661 (236)\ttotal: 5.84s\tremaining: 12.9s\n",
      "320:\ttest: 0.8653439\tbest: 0.8675661 (236)\ttotal: 6.04s\tremaining: 12.8s\n",
      "330:\ttest: 0.8639683\tbest: 0.8675661 (236)\ttotal: 6.23s\tremaining: 12.6s\n",
      "340:\ttest: 0.8628042\tbest: 0.8675661 (236)\ttotal: 6.43s\tremaining: 12.4s\n",
      "350:\ttest: 0.8621693\tbest: 0.8675661 (236)\ttotal: 6.63s\tremaining: 12.3s\n",
      "360:\ttest: 0.8614286\tbest: 0.8675661 (236)\ttotal: 6.83s\tremaining: 12.1s\n",
      "370:\ttest: 0.8624868\tbest: 0.8675661 (236)\ttotal: 7.02s\tremaining: 11.9s\n",
      "380:\ttest: 0.8634392\tbest: 0.8675661 (236)\ttotal: 7.22s\tremaining: 11.7s\n",
      "390:\ttest: 0.8641799\tbest: 0.8675661 (236)\ttotal: 7.42s\tremaining: 11.6s\n",
      "400:\ttest: 0.8647090\tbest: 0.8675661 (236)\ttotal: 7.62s\tremaining: 11.4s\n",
      "410:\ttest: 0.8649206\tbest: 0.8675661 (236)\ttotal: 7.81s\tremaining: 11.2s\n",
      "420:\ttest: 0.8656614\tbest: 0.8675661 (236)\ttotal: 8.01s\tremaining: 11s\n",
      "430:\ttest: 0.8647090\tbest: 0.8675661 (236)\ttotal: 8.21s\tremaining: 10.8s\n",
      "440:\ttest: 0.8639683\tbest: 0.8675661 (236)\ttotal: 8.4s\tremaining: 10.7s\n",
      "450:\ttest: 0.8636508\tbest: 0.8675661 (236)\ttotal: 8.61s\tremaining: 10.5s\n",
      "460:\ttest: 0.8618519\tbest: 0.8675661 (236)\ttotal: 8.82s\tremaining: 10.3s\n",
      "470:\ttest: 0.8611111\tbest: 0.8675661 (236)\ttotal: 9.02s\tremaining: 10.1s\n",
      "480:\ttest: 0.8621693\tbest: 0.8675661 (236)\ttotal: 9.22s\tremaining: 9.95s\n",
      "490:\ttest: 0.8616402\tbest: 0.8675661 (236)\ttotal: 9.42s\tremaining: 9.76s\n",
      "500:\ttest: 0.8607937\tbest: 0.8675661 (236)\ttotal: 9.61s\tremaining: 9.57s\n",
      "510:\ttest: 0.8607937\tbest: 0.8675661 (236)\ttotal: 9.8s\tremaining: 9.38s\n",
      "520:\ttest: 0.8598413\tbest: 0.8675661 (236)\ttotal: 10s\tremaining: 9.2s\n",
      "530:\ttest: 0.8595238\tbest: 0.8675661 (236)\ttotal: 10.2s\tremaining: 9s\n",
      "540:\ttest: 0.8607937\tbest: 0.8675661 (236)\ttotal: 10.4s\tremaining: 8.81s\n",
      "550:\ttest: 0.8599471\tbest: 0.8675661 (236)\ttotal: 10.6s\tremaining: 8.62s\n",
      "560:\ttest: 0.8601587\tbest: 0.8675661 (236)\ttotal: 10.8s\tremaining: 8.43s\n",
      "570:\ttest: 0.8605820\tbest: 0.8675661 (236)\ttotal: 11s\tremaining: 8.25s\n",
      "580:\ttest: 0.8594180\tbest: 0.8675661 (236)\ttotal: 11.2s\tremaining: 8.05s\n",
      "590:\ttest: 0.8595238\tbest: 0.8675661 (236)\ttotal: 11.4s\tremaining: 7.86s\n",
      "600:\ttest: 0.8591005\tbest: 0.8675661 (236)\ttotal: 11.6s\tremaining: 7.67s\n",
      "610:\ttest: 0.8585714\tbest: 0.8675661 (236)\ttotal: 11.7s\tremaining: 7.48s\n",
      "620:\ttest: 0.8581481\tbest: 0.8675661 (236)\ttotal: 11.9s\tremaining: 7.29s\n",
      "630:\ttest: 0.8570899\tbest: 0.8675661 (236)\ttotal: 12.1s\tremaining: 7.09s\n",
      "640:\ttest: 0.8578307\tbest: 0.8675661 (236)\ttotal: 12.3s\tremaining: 6.9s\n",
      "650:\ttest: 0.8567725\tbest: 0.8675661 (236)\ttotal: 12.5s\tremaining: 6.71s\n",
      "660:\ttest: 0.8565608\tbest: 0.8675661 (236)\ttotal: 12.7s\tremaining: 6.51s\n",
      "670:\ttest: 0.8562434\tbest: 0.8675661 (236)\ttotal: 12.9s\tremaining: 6.32s\n",
      "680:\ttest: 0.8571958\tbest: 0.8675661 (236)\ttotal: 13.1s\tremaining: 6.13s\n",
      "690:\ttest: 0.8568783\tbest: 0.8675661 (236)\ttotal: 13.3s\tremaining: 5.94s\n",
      "700:\ttest: 0.8568783\tbest: 0.8675661 (236)\ttotal: 13.5s\tremaining: 5.74s\n",
      "710:\ttest: 0.8568783\tbest: 0.8675661 (236)\ttotal: 13.7s\tremaining: 5.55s\n",
      "720:\ttest: 0.8574074\tbest: 0.8675661 (236)\ttotal: 13.9s\tremaining: 5.36s\n",
      "730:\ttest: 0.8571958\tbest: 0.8675661 (236)\ttotal: 14.1s\tremaining: 5.17s\n",
      "740:\ttest: 0.8577249\tbest: 0.8675661 (236)\ttotal: 14.2s\tremaining: 4.98s\n",
      "750:\ttest: 0.8581481\tbest: 0.8675661 (236)\ttotal: 14.4s\tremaining: 4.79s\n",
      "760:\ttest: 0.8579365\tbest: 0.8675661 (236)\ttotal: 14.6s\tremaining: 4.59s\n",
      "770:\ttest: 0.8578307\tbest: 0.8675661 (236)\ttotal: 14.8s\tremaining: 4.4s\n",
      "780:\ttest: 0.8579365\tbest: 0.8675661 (236)\ttotal: 15s\tremaining: 4.21s\n",
      "790:\ttest: 0.8583598\tbest: 0.8675661 (236)\ttotal: 15.2s\tremaining: 4.01s\n",
      "800:\ttest: 0.8587831\tbest: 0.8675661 (236)\ttotal: 15.4s\tremaining: 3.82s\n",
      "810:\ttest: 0.8582540\tbest: 0.8675661 (236)\ttotal: 15.6s\tremaining: 3.62s\n",
      "820:\ttest: 0.8584656\tbest: 0.8675661 (236)\ttotal: 15.7s\tremaining: 3.43s\n",
      "830:\ttest: 0.8571958\tbest: 0.8675661 (236)\ttotal: 15.9s\tremaining: 3.24s\n",
      "840:\ttest: 0.8568783\tbest: 0.8675661 (236)\ttotal: 16.1s\tremaining: 3.05s\n",
      "850:\ttest: 0.8568783\tbest: 0.8675661 (236)\ttotal: 16.3s\tremaining: 2.85s\n",
      "860:\ttest: 0.8569841\tbest: 0.8675661 (236)\ttotal: 16.5s\tremaining: 2.66s\n",
      "870:\ttest: 0.8573016\tbest: 0.8675661 (236)\ttotal: 16.6s\tremaining: 2.47s\n",
      "880:\ttest: 0.8568783\tbest: 0.8675661 (236)\ttotal: 16.8s\tremaining: 2.27s\n",
      "890:\ttest: 0.8566667\tbest: 0.8675661 (236)\ttotal: 17s\tremaining: 2.08s\n",
      "900:\ttest: 0.8566667\tbest: 0.8675661 (236)\ttotal: 17.2s\tremaining: 1.89s\n",
      "910:\ttest: 0.8565608\tbest: 0.8675661 (236)\ttotal: 17.4s\tremaining: 1.7s\n",
      "920:\ttest: 0.8566667\tbest: 0.8675661 (236)\ttotal: 17.5s\tremaining: 1.5s\n",
      "930:\ttest: 0.8564550\tbest: 0.8675661 (236)\ttotal: 17.7s\tremaining: 1.31s\n",
      "940:\ttest: 0.8570899\tbest: 0.8675661 (236)\ttotal: 17.9s\tremaining: 1.12s\n",
      "950:\ttest: 0.8568783\tbest: 0.8675661 (236)\ttotal: 18.1s\tremaining: 931ms\n",
      "960:\ttest: 0.8567725\tbest: 0.8675661 (236)\ttotal: 18.3s\tremaining: 741ms\n",
      "970:\ttest: 0.8568783\tbest: 0.8675661 (236)\ttotal: 18.4s\tremaining: 551ms\n",
      "980:\ttest: 0.8559259\tbest: 0.8675661 (236)\ttotal: 18.6s\tremaining: 361ms\n",
      "990:\ttest: 0.8555026\tbest: 0.8675661 (236)\ttotal: 18.8s\tremaining: 171ms\n",
      "999:\ttest: 0.8552910\tbest: 0.8675661 (236)\ttotal: 19s\tremaining: 0us\n",
      "\n",
      "bestTest = 0.8675661376\n",
      "bestIteration = 236\n",
      "\n",
      "Shrink model to first 237 iterations.\n"
     ]
    },
    {
     "data": {
      "text/plain": [
       "<catboost.core.CatBoostClassifier at 0x7fe99cad1720>"
      ]
     },
     "execution_count": 81,
     "metadata": {},
     "output_type": "execute_result"
    }
   ],
   "source": [
    "reranker.fit(\n",
    "    X_train,\n",
    "    y_train,\n",
    "    use_best_model=True,\n",
    "    eval_set=(X_test, y_test),\n",
    ")"
   ]
  },
  {
   "cell_type": "code",
   "execution_count": 82,
   "id": "511976b4-cce5-41bd-81f3-09ecd67952d9",
   "metadata": {},
   "outputs": [
    {
     "name": "stdout",
     "output_type": "stream",
     "text": [
      "              precision    recall  f1-score   support\n",
      "\n",
      "         0.0       0.87      0.81      0.84       135\n",
      "         1.0       0.67      0.76      0.71        70\n",
      "\n",
      "    accuracy                           0.79       205\n",
      "   macro avg       0.77      0.78      0.77       205\n",
      "weighted avg       0.80      0.79      0.79       205\n",
      "\n",
      "roc_auc_score: 0.8675661375661377\n"
     ]
    }
   ],
   "source": [
    "y_pred = reranker.predict(X_test)\n",
    "print(classification_report(y_test, y_pred))\n",
    "y_pred = reranker.predict_proba(X_test)[:, 1]\n",
    "print(f'roc_auc_score: {roc_auc_score(y_test, y_pred)}')"
   ]
  },
  {
   "cell_type": "code",
   "execution_count": 83,
   "id": "37c8706f-708d-4f29-bca0-8411efc58070",
   "metadata": {},
   "outputs": [],
   "source": [
    "reranker.save_model(\"ranker_weighted.bin\")"
   ]
  },
  {
   "cell_type": "code",
   "execution_count": 84,
   "id": "2e22d949-8357-46e4-a854-b37bf9ca3cb5",
   "metadata": {},
   "outputs": [],
   "source": [
    "from catboost import CatBoostClassifier\n",
    "\n",
    "\n",
    "class Ranker:\n",
    "    def __init__(self, model_path: str = \"ranker\", device: str = \"cpu\"):\n",
    "        self.device = device\n",
    "        \n",
    "        self.model_name = \"DeepPavlov/rubert-base-cased-sentence\"\n",
    "        self.tokenizer = BertTokenizer.from_pretrained(self.model_name)\n",
    "        self.model = BertModel.from_pretrained(self.model_name).to(self.device).eval()\n",
    "\n",
    "        self.ranker = CatBoostClassifier(\n",
    "            random_state=42,\n",
    "            verbose=10,\n",
    "        )\n",
    "        self.ranker.load_model(model_path)\n",
    "\n",
    "\n",
    "    def get_sentence_embedding(self, sentence: str) -> torch.Tensor:\n",
    "        inputs = self.tokenizer(sentence, return_tensors=\"pt\", truncation=True, padding=True, max_length=256)\n",
    "        \n",
    "        inputs['input_ids'] = inputs['input_ids'].to(self.device)\n",
    "        inputs['token_type_ids'] = inputs['token_type_ids'].to(self.device)\n",
    "        inputs['attention_mask'] = inputs['attention_mask'].to(self.device)\n",
    "    \n",
    "        with torch.no_grad():\n",
    "            outputs = self.model(**inputs)\n",
    "            embedding = outputs.last_hidden_state[:, 0, :].cpu().numpy()\n",
    "            \n",
    "        return embedding\n",
    "\n",
    "    def predict_proba(self, sentence):\n",
    "        embedding = self.get_sentence_embedding(sentence)\n",
    "        return self.ranker.predict_proba(embedding)[:, 1][0]"
   ]
  },
  {
   "cell_type": "code",
   "execution_count": 85,
   "id": "8a096c8b-baba-49be-bd43-34475498ff2d",
   "metadata": {},
   "outputs": [
    {
     "name": "stdout",
     "output_type": "stream",
     "text": [
      "catboost_info\t\t\t rag.ipynb\n",
      "dataset.ipynb\t\t\t rag_submission.ipynb\n",
      "dataset_sandbox.ipynb\t\t ranker\n",
      "gigachat.ipynb\t\t\t ranker.bin\n",
      "gigachat_baseline.ipynb\t\t ranker_weighted.bin\n",
      "gigachat_lite_baseline.ipynb\t reranker.ipynb\n",
      "gigachat_pro_best_yandex.ipynb\t yandexgpt.ipynb\n",
      "injection_data_generation.ipynb  yandexgpt_pro_baseline.ipynb\n",
      "ood_catboost.ipynb\n"
     ]
    }
   ],
   "source": [
    "!ls /home/jovyan/novitskiy/HSE-AI-Assistant-Hack/notebooks"
   ]
  },
  {
   "cell_type": "code",
   "execution_count": 89,
   "id": "83c9821c-4ee8-418a-b2cd-9ea5dfc39409",
   "metadata": {},
   "outputs": [],
   "source": [
    "ranker_api = Ranker(model_path=\"ranker_weighted.bin\", device=\"cpu\")"
   ]
  },
  {
   "cell_type": "code",
   "execution_count": 90,
   "id": "470e6a20-0951-4f98-9236-66e308aa124c",
   "metadata": {},
   "outputs": [
    {
     "data": {
      "text/plain": [
       "0.5981571171036825"
      ]
     },
     "execution_count": 90,
     "metadata": {},
     "output_type": "execute_result"
    }
   ],
   "source": [
    "ranker_api.predict_proba('Ошибка в открытых тестах. \\n\\nОбратите внимание на неверный оператор сравнения — необходимо проверить, что цвет не находится в списке cite_project.')"
   ]
  },
  {
   "cell_type": "code",
   "execution_count": 91,
   "id": "aa65846f-ae0f-46c2-9f1f-3bfb2ba9302b",
   "metadata": {},
   "outputs": [
    {
     "data": {
      "text/plain": [
       "0.03837912536922591"
      ]
     },
     "execution_count": 91,
     "metadata": {},
     "output_type": "execute_result"
    }
   ],
   "source": [
    "ranker_api.predict_proba('Ошибка в открытых тестах. \\n\\nОбратите внимание, что цвет должен соответствовать условиям задания.')"
   ]
  },
  {
   "cell_type": "markdown",
   "id": "6096735a-d1b8-47b4-8f86-01498158d356",
   "metadata": {},
   "source": [
    "# Embedding features"
   ]
  },
  {
   "cell_type": "code",
   "execution_count": 30,
   "id": "26f0af1c-305a-4688-86c4-833013fed22d",
   "metadata": {},
   "outputs": [],
   "source": [
    "reranker = CatBoostClassifier(\n",
    "    random_state=42,\n",
    "    verbose=10\n",
    ")"
   ]
  },
  {
   "cell_type": "code",
   "execution_count": 32,
   "id": "2b595948-bff5-4552-8125-1976a3410385",
   "metadata": {},
   "outputs": [],
   "source": [
    "X_train_df = pd.DataFrame({\"embeddings\": list(X_train)})\n",
    "X_test_df = pd.DataFrame({\"embeddings\": list(X_test)})"
   ]
  },
  {
   "cell_type": "code",
   "execution_count": 33,
   "id": "0af9f24e-ed8d-46ba-aef9-9c245ccfa18a",
   "metadata": {
    "scrolled": true
   },
   "outputs": [
    {
     "name": "stdout",
     "output_type": "stream",
     "text": [
      "Learning rate set to 0.030155\n",
      "0:\tlearn: 0.6865625\ttest: 0.6858569\tbest: 0.6858569 (0)\ttotal: 1.09ms\tremaining: 1.09s\n",
      "10:\tlearn: 0.6233370\ttest: 0.6110305\tbest: 0.6110305 (10)\ttotal: 8.75ms\tremaining: 787ms\n",
      "20:\tlearn: 0.5896891\ttest: 0.5680563\tbest: 0.5680563 (20)\ttotal: 14.6ms\tremaining: 682ms\n",
      "30:\tlearn: 0.5706738\ttest: 0.5427326\tbest: 0.5427326 (30)\ttotal: 20.5ms\tremaining: 641ms\n",
      "40:\tlearn: 0.5593314\ttest: 0.5266380\tbest: 0.5266380 (40)\ttotal: 26.2ms\tremaining: 614ms\n",
      "50:\tlearn: 0.5500816\ttest: 0.5179956\tbest: 0.5179956 (50)\ttotal: 32.3ms\tremaining: 601ms\n",
      "60:\tlearn: 0.5439177\ttest: 0.5115155\tbest: 0.5115155 (60)\ttotal: 38.6ms\tremaining: 594ms\n",
      "70:\tlearn: 0.5393781\ttest: 0.5097120\tbest: 0.5097120 (70)\ttotal: 44.6ms\tremaining: 583ms\n",
      "80:\tlearn: 0.5354669\ttest: 0.5078121\tbest: 0.5070907 (78)\ttotal: 50.7ms\tremaining: 575ms\n",
      "90:\tlearn: 0.5325943\ttest: 0.5060508\tbest: 0.5060508 (90)\ttotal: 56.6ms\tremaining: 566ms\n",
      "100:\tlearn: 0.5302065\ttest: 0.5067973\tbest: 0.5055646 (94)\ttotal: 62.6ms\tremaining: 557ms\n",
      "110:\tlearn: 0.5278925\ttest: 0.5062304\tbest: 0.5055646 (94)\ttotal: 68.5ms\tremaining: 549ms\n",
      "120:\tlearn: 0.5252243\ttest: 0.5070115\tbest: 0.5055646 (94)\ttotal: 74.5ms\tremaining: 541ms\n",
      "130:\tlearn: 0.5223689\ttest: 0.5069600\tbest: 0.5055646 (94)\ttotal: 80.5ms\tremaining: 534ms\n",
      "140:\tlearn: 0.5204425\ttest: 0.5086399\tbest: 0.5055646 (94)\ttotal: 86.1ms\tremaining: 524ms\n",
      "150:\tlearn: 0.5186395\ttest: 0.5090620\tbest: 0.5055646 (94)\ttotal: 92.1ms\tremaining: 518ms\n",
      "160:\tlearn: 0.5157192\ttest: 0.5082252\tbest: 0.5055646 (94)\ttotal: 98.1ms\tremaining: 511ms\n",
      "170:\tlearn: 0.5141756\ttest: 0.5078528\tbest: 0.5055646 (94)\ttotal: 104ms\tremaining: 504ms\n",
      "180:\tlearn: 0.5117446\ttest: 0.5084297\tbest: 0.5055646 (94)\ttotal: 110ms\tremaining: 498ms\n",
      "190:\tlearn: 0.5094845\ttest: 0.5093900\tbest: 0.5055646 (94)\ttotal: 116ms\tremaining: 492ms\n",
      "200:\tlearn: 0.5072898\ttest: 0.5094483\tbest: 0.5055646 (94)\ttotal: 122ms\tremaining: 486ms\n",
      "210:\tlearn: 0.5041062\ttest: 0.5082449\tbest: 0.5055646 (94)\ttotal: 129ms\tremaining: 481ms\n",
      "220:\tlearn: 0.5017049\ttest: 0.5079127\tbest: 0.5055646 (94)\ttotal: 135ms\tremaining: 476ms\n",
      "230:\tlearn: 0.4994030\ttest: 0.5069487\tbest: 0.5055646 (94)\ttotal: 141ms\tremaining: 470ms\n",
      "240:\tlearn: 0.4966467\ttest: 0.5076489\tbest: 0.5055646 (94)\ttotal: 147ms\tremaining: 464ms\n",
      "250:\tlearn: 0.4938534\ttest: 0.5089890\tbest: 0.5055646 (94)\ttotal: 154ms\tremaining: 458ms\n",
      "260:\tlearn: 0.4901503\ttest: 0.5094816\tbest: 0.5055646 (94)\ttotal: 160ms\tremaining: 452ms\n",
      "270:\tlearn: 0.4873849\ttest: 0.5090549\tbest: 0.5055646 (94)\ttotal: 166ms\tremaining: 447ms\n",
      "280:\tlearn: 0.4837344\ttest: 0.5096759\tbest: 0.5055646 (94)\ttotal: 172ms\tremaining: 441ms\n",
      "290:\tlearn: 0.4803888\ttest: 0.5115758\tbest: 0.5055646 (94)\ttotal: 179ms\tremaining: 436ms\n",
      "300:\tlearn: 0.4767765\ttest: 0.5123757\tbest: 0.5055646 (94)\ttotal: 185ms\tremaining: 430ms\n",
      "310:\tlearn: 0.4725305\ttest: 0.5129791\tbest: 0.5055646 (94)\ttotal: 192ms\tremaining: 425ms\n",
      "320:\tlearn: 0.4688001\ttest: 0.5142210\tbest: 0.5055646 (94)\ttotal: 199ms\tremaining: 420ms\n",
      "330:\tlearn: 0.4645653\ttest: 0.5149573\tbest: 0.5055646 (94)\ttotal: 205ms\tremaining: 414ms\n",
      "340:\tlearn: 0.4599535\ttest: 0.5158678\tbest: 0.5055646 (94)\ttotal: 214ms\tremaining: 413ms\n",
      "350:\tlearn: 0.4559654\ttest: 0.5164710\tbest: 0.5055646 (94)\ttotal: 222ms\tremaining: 411ms\n",
      "360:\tlearn: 0.4524949\ttest: 0.5163601\tbest: 0.5055646 (94)\ttotal: 231ms\tremaining: 409ms\n",
      "370:\tlearn: 0.4494928\ttest: 0.5174998\tbest: 0.5055646 (94)\ttotal: 239ms\tremaining: 406ms\n",
      "380:\tlearn: 0.4456806\ttest: 0.5192047\tbest: 0.5055646 (94)\ttotal: 248ms\tremaining: 403ms\n",
      "390:\tlearn: 0.4422695\ttest: 0.5196872\tbest: 0.5055646 (94)\ttotal: 257ms\tremaining: 400ms\n",
      "400:\tlearn: 0.4386493\ttest: 0.5202928\tbest: 0.5055646 (94)\ttotal: 265ms\tremaining: 396ms\n",
      "410:\tlearn: 0.4357954\ttest: 0.5212646\tbest: 0.5055646 (94)\ttotal: 274ms\tremaining: 393ms\n",
      "420:\tlearn: 0.4327557\ttest: 0.5224228\tbest: 0.5055646 (94)\ttotal: 281ms\tremaining: 386ms\n",
      "430:\tlearn: 0.4295286\ttest: 0.5226426\tbest: 0.5055646 (94)\ttotal: 288ms\tremaining: 380ms\n",
      "440:\tlearn: 0.4261889\ttest: 0.5247120\tbest: 0.5055646 (94)\ttotal: 294ms\tremaining: 373ms\n",
      "450:\tlearn: 0.4232992\ttest: 0.5253640\tbest: 0.5055646 (94)\ttotal: 301ms\tremaining: 366ms\n",
      "460:\tlearn: 0.4211776\ttest: 0.5251723\tbest: 0.5055646 (94)\ttotal: 307ms\tremaining: 359ms\n",
      "470:\tlearn: 0.4182590\ttest: 0.5264956\tbest: 0.5055646 (94)\ttotal: 314ms\tremaining: 352ms\n",
      "480:\tlearn: 0.4156626\ttest: 0.5282766\tbest: 0.5055646 (94)\ttotal: 320ms\tremaining: 345ms\n",
      "490:\tlearn: 0.4126241\ttest: 0.5308036\tbest: 0.5055646 (94)\ttotal: 327ms\tremaining: 339ms\n",
      "500:\tlearn: 0.4098214\ttest: 0.5309959\tbest: 0.5055646 (94)\ttotal: 334ms\tremaining: 332ms\n",
      "510:\tlearn: 0.4070881\ttest: 0.5326696\tbest: 0.5055646 (94)\ttotal: 340ms\tremaining: 326ms\n",
      "520:\tlearn: 0.4046110\ttest: 0.5352032\tbest: 0.5055646 (94)\ttotal: 347ms\tremaining: 319ms\n",
      "530:\tlearn: 0.4028112\ttest: 0.5374163\tbest: 0.5055646 (94)\ttotal: 353ms\tremaining: 312ms\n",
      "540:\tlearn: 0.4001808\ttest: 0.5382618\tbest: 0.5055646 (94)\ttotal: 359ms\tremaining: 305ms\n",
      "550:\tlearn: 0.3983733\ttest: 0.5409111\tbest: 0.5055646 (94)\ttotal: 366ms\tremaining: 298ms\n",
      "560:\tlearn: 0.3963085\ttest: 0.5410210\tbest: 0.5055646 (94)\ttotal: 372ms\tremaining: 291ms\n",
      "570:\tlearn: 0.3941384\ttest: 0.5410566\tbest: 0.5055646 (94)\ttotal: 379ms\tremaining: 284ms\n",
      "580:\tlearn: 0.3920691\ttest: 0.5408514\tbest: 0.5055646 (94)\ttotal: 385ms\tremaining: 278ms\n",
      "590:\tlearn: 0.3902768\ttest: 0.5419948\tbest: 0.5055646 (94)\ttotal: 392ms\tremaining: 271ms\n",
      "600:\tlearn: 0.3880650\ttest: 0.5429402\tbest: 0.5055646 (94)\ttotal: 399ms\tremaining: 265ms\n",
      "610:\tlearn: 0.3859176\ttest: 0.5431366\tbest: 0.5055646 (94)\ttotal: 405ms\tremaining: 258ms\n",
      "620:\tlearn: 0.3837019\ttest: 0.5444763\tbest: 0.5055646 (94)\ttotal: 412ms\tremaining: 251ms\n",
      "630:\tlearn: 0.3816105\ttest: 0.5450758\tbest: 0.5055646 (94)\ttotal: 418ms\tremaining: 245ms\n",
      "640:\tlearn: 0.3794861\ttest: 0.5457634\tbest: 0.5055646 (94)\ttotal: 425ms\tremaining: 238ms\n",
      "650:\tlearn: 0.3777315\ttest: 0.5456657\tbest: 0.5055646 (94)\ttotal: 431ms\tremaining: 231ms\n",
      "660:\tlearn: 0.3758558\ttest: 0.5463810\tbest: 0.5055646 (94)\ttotal: 438ms\tremaining: 225ms\n",
      "670:\tlearn: 0.3742877\ttest: 0.5479031\tbest: 0.5055646 (94)\ttotal: 444ms\tremaining: 218ms\n",
      "680:\tlearn: 0.3722135\ttest: 0.5487637\tbest: 0.5055646 (94)\ttotal: 451ms\tremaining: 211ms\n",
      "690:\tlearn: 0.3706963\ttest: 0.5490915\tbest: 0.5055646 (94)\ttotal: 457ms\tremaining: 204ms\n",
      "700:\tlearn: 0.3679209\ttest: 0.5498372\tbest: 0.5055646 (94)\ttotal: 464ms\tremaining: 198ms\n",
      "710:\tlearn: 0.3661131\ttest: 0.5506929\tbest: 0.5055646 (94)\ttotal: 470ms\tremaining: 191ms\n",
      "720:\tlearn: 0.3645740\ttest: 0.5511334\tbest: 0.5055646 (94)\ttotal: 477ms\tremaining: 184ms\n",
      "730:\tlearn: 0.3629127\ttest: 0.5514443\tbest: 0.5055646 (94)\ttotal: 483ms\tremaining: 178ms\n",
      "740:\tlearn: 0.3612492\ttest: 0.5515756\tbest: 0.5055646 (94)\ttotal: 490ms\tremaining: 171ms\n",
      "750:\tlearn: 0.3594934\ttest: 0.5519753\tbest: 0.5055646 (94)\ttotal: 497ms\tremaining: 165ms\n",
      "760:\tlearn: 0.3579385\ttest: 0.5531407\tbest: 0.5055646 (94)\ttotal: 503ms\tremaining: 158ms\n",
      "770:\tlearn: 0.3564516\ttest: 0.5536908\tbest: 0.5055646 (94)\ttotal: 509ms\tremaining: 151ms\n",
      "780:\tlearn: 0.3549861\ttest: 0.5542412\tbest: 0.5055646 (94)\ttotal: 516ms\tremaining: 145ms\n",
      "790:\tlearn: 0.3532798\ttest: 0.5558615\tbest: 0.5055646 (94)\ttotal: 523ms\tremaining: 138ms\n",
      "800:\tlearn: 0.3517499\ttest: 0.5556721\tbest: 0.5055646 (94)\ttotal: 529ms\tremaining: 131ms\n",
      "810:\tlearn: 0.3504315\ttest: 0.5570759\tbest: 0.5055646 (94)\ttotal: 535ms\tremaining: 125ms\n",
      "820:\tlearn: 0.3490108\ttest: 0.5582601\tbest: 0.5055646 (94)\ttotal: 542ms\tremaining: 118ms\n",
      "830:\tlearn: 0.3475565\ttest: 0.5592619\tbest: 0.5055646 (94)\ttotal: 548ms\tremaining: 111ms\n",
      "840:\tlearn: 0.3461627\ttest: 0.5600959\tbest: 0.5055646 (94)\ttotal: 555ms\tremaining: 105ms\n",
      "850:\tlearn: 0.3448722\ttest: 0.5602928\tbest: 0.5055646 (94)\ttotal: 561ms\tremaining: 98.2ms\n",
      "860:\tlearn: 0.3431806\ttest: 0.5610054\tbest: 0.5055646 (94)\ttotal: 568ms\tremaining: 91.7ms\n",
      "870:\tlearn: 0.3419173\ttest: 0.5620330\tbest: 0.5055646 (94)\ttotal: 574ms\tremaining: 85.1ms\n",
      "880:\tlearn: 0.3405852\ttest: 0.5618599\tbest: 0.5055646 (94)\ttotal: 581ms\tremaining: 78.4ms\n",
      "890:\tlearn: 0.3393876\ttest: 0.5628973\tbest: 0.5055646 (94)\ttotal: 587ms\tremaining: 71.8ms\n",
      "900:\tlearn: 0.3381229\ttest: 0.5630298\tbest: 0.5055646 (94)\ttotal: 594ms\tremaining: 65.2ms\n",
      "910:\tlearn: 0.3369388\ttest: 0.5644555\tbest: 0.5055646 (94)\ttotal: 600ms\tremaining: 58.6ms\n",
      "920:\tlearn: 0.3353665\ttest: 0.5644863\tbest: 0.5055646 (94)\ttotal: 607ms\tremaining: 52ms\n",
      "930:\tlearn: 0.3338018\ttest: 0.5645199\tbest: 0.5055646 (94)\ttotal: 613ms\tremaining: 45.4ms\n",
      "940:\tlearn: 0.3322933\ttest: 0.5648746\tbest: 0.5055646 (94)\ttotal: 619ms\tremaining: 38.8ms\n",
      "950:\tlearn: 0.3307260\ttest: 0.5646336\tbest: 0.5055646 (94)\ttotal: 626ms\tremaining: 32.3ms\n",
      "960:\tlearn: 0.3295060\ttest: 0.5678670\tbest: 0.5055646 (94)\ttotal: 635ms\tremaining: 25.8ms\n",
      "970:\tlearn: 0.3281078\ttest: 0.5691547\tbest: 0.5055646 (94)\ttotal: 643ms\tremaining: 19.2ms\n",
      "980:\tlearn: 0.3267763\ttest: 0.5696270\tbest: 0.5055646 (94)\ttotal: 649ms\tremaining: 12.6ms\n",
      "990:\tlearn: 0.3256815\ttest: 0.5699416\tbest: 0.5055646 (94)\ttotal: 655ms\tremaining: 5.95ms\n",
      "999:\tlearn: 0.3247924\ttest: 0.5698518\tbest: 0.5055646 (94)\ttotal: 660ms\tremaining: 0us\n",
      "\n",
      "bestTest = 0.5055646432\n",
      "bestIteration = 94\n",
      "\n",
      "Shrink model to first 95 iterations.\n"
     ]
    },
    {
     "data": {
      "text/plain": [
       "<catboost.core.CatBoostClassifier at 0x7f8241b5df30>"
      ]
     },
     "execution_count": 33,
     "metadata": {},
     "output_type": "execute_result"
    }
   ],
   "source": [
    "reranker.fit(\n",
    "    X_train_df,\n",
    "    y_train,\n",
    "    eval_set=(X_test_df, y_test),\n",
    "    embedding_features=[\"embeddings\"]\n",
    ")"
   ]
  },
  {
   "cell_type": "code",
   "execution_count": 34,
   "id": "549af49d-3a1e-41c5-9e49-bc725dc4eb34",
   "metadata": {},
   "outputs": [
    {
     "name": "stdout",
     "output_type": "stream",
     "text": [
      "              precision    recall  f1-score   support\n",
      "\n",
      "         0.0       0.78      0.81      0.80       135\n",
      "         1.0       0.61      0.56      0.58        70\n",
      "\n",
      "    accuracy                           0.73       205\n",
      "   macro avg       0.69      0.69      0.69       205\n",
      "weighted avg       0.72      0.73      0.72       205\n",
      "\n",
      "roc_auc_score: 0.8229100529100529\n"
     ]
    }
   ],
   "source": [
    "y_pred = reranker.predict(X_test_df)\n",
    "print(classification_report(y_test, y_pred))\n",
    "y_pred = reranker.predict_proba(X_test_df)[:, 1]\n",
    "print(f'roc_auc_score: {roc_auc_score(y_test, y_pred)}')"
   ]
  },
  {
   "cell_type": "markdown",
   "id": "34325b32-0723-4dec-a0f3-4adfd63cd0be",
   "metadata": {},
   "source": [
    "# Text features"
   ]
  },
  {
   "cell_type": "code",
   "execution_count": 35,
   "id": "a79953fa-3208-4a81-b556-64b2a0ad1c9e",
   "metadata": {},
   "outputs": [],
   "source": [
    "train = pd.read_excel(\"../data/train/merged_executed.xlsx\")[[\"author_comment\"]]\n",
    "generated = pd.read_excel(\"../data/train/merged_executed_generated.xlsx\")[[\"author_comment\"]]"
   ]
  },
  {
   "cell_type": "code",
   "execution_count": 36,
   "id": "4dfae9e7-435a-47d1-a572-2aa1343b5b3a",
   "metadata": {},
   "outputs": [],
   "source": [
    "real_y = np.ones(train.shape[0])\n",
    "fake_y = np.zeros(generated.shape[0])"
   ]
  },
  {
   "cell_type": "code",
   "execution_count": 38,
   "id": "5c6489bd-04b8-494b-b01b-14d2f5d3d4ca",
   "metadata": {},
   "outputs": [
    {
     "name": "stderr",
     "output_type": "stream",
     "text": [
      "/tmp/ipykernel_626888/1959148306.py:1: FutureWarning: The frame.append method is deprecated and will be removed from pandas in a future version. Use pandas.concat instead.\n",
      "  X = train.append(generated)\n"
     ]
    }
   ],
   "source": [
    "X = train.append(generated)\n",
    "y = np.vstack([real_y.reshape(-1, 1), fake_y.reshape(-1, 1)])"
   ]
  },
  {
   "cell_type": "code",
   "execution_count": 39,
   "id": "e8d6a494-583d-4726-8c29-d6a4553f096e",
   "metadata": {},
   "outputs": [],
   "source": [
    "from sklearn.model_selection import train_test_split\n",
    "\n",
    "X_train, X_test, y_train, y_test = train_test_split(X, y, stratify=y, test_size=0.2, random_state=42)"
   ]
  },
  {
   "cell_type": "code",
   "execution_count": 40,
   "id": "db34ea3a-441c-4464-a777-1f7a76bd4aa8",
   "metadata": {},
   "outputs": [],
   "source": [
    "reranker = CatBoostClassifier(\n",
    "    random_state=42,\n",
    "    verbose=10\n",
    ")"
   ]
  },
  {
   "cell_type": "code",
   "execution_count": 41,
   "id": "0567f97f-ab11-4a01-a4db-553889fd87ae",
   "metadata": {
    "scrolled": true
   },
   "outputs": [
    {
     "name": "stdout",
     "output_type": "stream",
     "text": [
      "Learning rate set to 0.030155\n",
      "0:\tlearn: 0.6848833\ttest: 0.6872912\tbest: 0.6872912 (0)\ttotal: 11.9ms\tremaining: 11.9s\n",
      "10:\tlearn: 0.6180512\ttest: 0.6350173\tbest: 0.6350173 (10)\ttotal: 129ms\tremaining: 11.6s\n",
      "20:\tlearn: 0.5819445\ttest: 0.6085166\tbest: 0.6085166 (20)\ttotal: 240ms\tremaining: 11.2s\n",
      "30:\tlearn: 0.5578892\ttest: 0.5939844\tbest: 0.5939844 (30)\ttotal: 351ms\tremaining: 11s\n",
      "40:\tlearn: 0.5339282\ttest: 0.5780731\tbest: 0.5780731 (40)\ttotal: 460ms\tremaining: 10.8s\n",
      "50:\tlearn: 0.5171074\ttest: 0.5676783\tbest: 0.5676783 (50)\ttotal: 574ms\tremaining: 10.7s\n",
      "60:\tlearn: 0.5046735\ttest: 0.5607111\tbest: 0.5607111 (60)\ttotal: 687ms\tremaining: 10.6s\n",
      "70:\tlearn: 0.4905787\ttest: 0.5519496\tbest: 0.5519496 (70)\ttotal: 800ms\tremaining: 10.5s\n",
      "80:\tlearn: 0.4802720\ttest: 0.5452678\tbest: 0.5452678 (80)\ttotal: 908ms\tremaining: 10.3s\n",
      "90:\tlearn: 0.4698093\ttest: 0.5380500\tbest: 0.5380500 (90)\ttotal: 1.02s\tremaining: 10.2s\n",
      "100:\tlearn: 0.4608845\ttest: 0.5314064\tbest: 0.5314064 (100)\ttotal: 1.14s\tremaining: 10.1s\n",
      "110:\tlearn: 0.4529380\ttest: 0.5266290\tbest: 0.5266290 (110)\ttotal: 1.25s\tremaining: 10s\n",
      "120:\tlearn: 0.4433537\ttest: 0.5207974\tbest: 0.5207974 (120)\ttotal: 1.37s\tremaining: 9.93s\n",
      "130:\tlearn: 0.4379943\ttest: 0.5185374\tbest: 0.5185374 (130)\ttotal: 1.48s\tremaining: 9.81s\n",
      "140:\tlearn: 0.4311260\ttest: 0.5157327\tbest: 0.5157327 (140)\ttotal: 1.59s\tremaining: 9.71s\n",
      "150:\tlearn: 0.4251881\ttest: 0.5112229\tbest: 0.5112229 (150)\ttotal: 1.71s\tremaining: 9.64s\n",
      "160:\tlearn: 0.4184067\ttest: 0.5073552\tbest: 0.5073552 (160)\ttotal: 1.83s\tremaining: 9.55s\n",
      "170:\tlearn: 0.4101149\ttest: 0.5041532\tbest: 0.5041532 (170)\ttotal: 1.95s\tremaining: 9.47s\n",
      "180:\tlearn: 0.4051056\ttest: 0.5021795\tbest: 0.5021728 (177)\ttotal: 2.08s\tremaining: 9.39s\n",
      "190:\tlearn: 0.4000365\ttest: 0.4997099\tbest: 0.4997099 (190)\ttotal: 2.19s\tremaining: 9.27s\n",
      "200:\tlearn: 0.3932342\ttest: 0.4963591\tbest: 0.4963591 (200)\ttotal: 2.31s\tremaining: 9.18s\n",
      "210:\tlearn: 0.3860020\ttest: 0.4942655\tbest: 0.4942655 (210)\ttotal: 2.43s\tremaining: 9.08s\n",
      "220:\tlearn: 0.3797816\ttest: 0.4913914\tbest: 0.4913914 (220)\ttotal: 2.55s\tremaining: 8.98s\n",
      "230:\tlearn: 0.3735807\ttest: 0.4894773\tbest: 0.4892720 (227)\ttotal: 2.67s\tremaining: 8.87s\n",
      "240:\tlearn: 0.3686262\ttest: 0.4890784\tbest: 0.4890784 (240)\ttotal: 2.78s\tremaining: 8.76s\n",
      "250:\tlearn: 0.3613603\ttest: 0.4874088\tbest: 0.4871677 (249)\ttotal: 2.9s\tremaining: 8.66s\n",
      "260:\tlearn: 0.3548042\ttest: 0.4849043\tbest: 0.4849043 (260)\ttotal: 3.02s\tremaining: 8.56s\n",
      "270:\tlearn: 0.3477033\ttest: 0.4847223\tbest: 0.4845661 (263)\ttotal: 3.15s\tremaining: 8.46s\n",
      "280:\tlearn: 0.3400472\ttest: 0.4825855\tbest: 0.4825855 (280)\ttotal: 3.27s\tremaining: 8.36s\n",
      "290:\tlearn: 0.3316614\ttest: 0.4825805\tbest: 0.4821311 (287)\ttotal: 3.38s\tremaining: 8.24s\n",
      "300:\tlearn: 0.3244980\ttest: 0.4807388\tbest: 0.4807388 (300)\ttotal: 3.5s\tremaining: 8.12s\n",
      "310:\tlearn: 0.3189849\ttest: 0.4789563\tbest: 0.4789563 (310)\ttotal: 3.62s\tremaining: 8.01s\n",
      "320:\tlearn: 0.3114982\ttest: 0.4767514\tbest: 0.4767514 (320)\ttotal: 3.73s\tremaining: 7.9s\n",
      "330:\tlearn: 0.3032828\ttest: 0.4756680\tbest: 0.4749127 (329)\ttotal: 3.85s\tremaining: 7.78s\n",
      "340:\tlearn: 0.2978196\ttest: 0.4725380\tbest: 0.4725380 (340)\ttotal: 3.97s\tremaining: 7.67s\n",
      "350:\tlearn: 0.2928609\ttest: 0.4706566\tbest: 0.4706566 (350)\ttotal: 4.08s\tremaining: 7.54s\n",
      "360:\tlearn: 0.2896229\ttest: 0.4699608\tbest: 0.4699347 (356)\ttotal: 4.19s\tremaining: 7.42s\n",
      "370:\tlearn: 0.2835789\ttest: 0.4684875\tbest: 0.4684875 (370)\ttotal: 4.31s\tremaining: 7.3s\n",
      "380:\tlearn: 0.2786943\ttest: 0.4685588\tbest: 0.4677353 (371)\ttotal: 4.44s\tremaining: 7.21s\n",
      "390:\tlearn: 0.2724824\ttest: 0.4668598\tbest: 0.4664390 (388)\ttotal: 4.56s\tremaining: 7.1s\n",
      "400:\tlearn: 0.2670842\ttest: 0.4653791\tbest: 0.4653707 (399)\ttotal: 4.67s\tremaining: 6.98s\n",
      "410:\tlearn: 0.2612869\ttest: 0.4651772\tbest: 0.4645314 (403)\ttotal: 4.79s\tremaining: 6.86s\n",
      "420:\tlearn: 0.2571451\ttest: 0.4644068\tbest: 0.4644068 (420)\ttotal: 4.9s\tremaining: 6.74s\n",
      "430:\tlearn: 0.2532580\ttest: 0.4634219\tbest: 0.4632984 (428)\ttotal: 5.01s\tremaining: 6.61s\n",
      "440:\tlearn: 0.2500125\ttest: 0.4634353\tbest: 0.4630604 (433)\ttotal: 5.12s\tremaining: 6.49s\n",
      "450:\tlearn: 0.2446516\ttest: 0.4634858\tbest: 0.4627512 (446)\ttotal: 5.24s\tremaining: 6.38s\n",
      "460:\tlearn: 0.2405675\ttest: 0.4605821\tbest: 0.4605821 (460)\ttotal: 5.35s\tremaining: 6.26s\n",
      "470:\tlearn: 0.2373522\ttest: 0.4599286\tbest: 0.4596052 (467)\ttotal: 5.47s\tremaining: 6.15s\n",
      "480:\tlearn: 0.2322958\ttest: 0.4589003\tbest: 0.4584388 (474)\ttotal: 5.59s\tremaining: 6.03s\n",
      "490:\tlearn: 0.2291060\ttest: 0.4585238\tbest: 0.4584064 (487)\ttotal: 5.7s\tremaining: 5.91s\n",
      "500:\tlearn: 0.2248823\ttest: 0.4592152\tbest: 0.4580756 (492)\ttotal: 5.8s\tremaining: 5.78s\n",
      "510:\tlearn: 0.2216150\ttest: 0.4579169\tbest: 0.4579169 (510)\ttotal: 5.91s\tremaining: 5.66s\n",
      "520:\tlearn: 0.2173466\ttest: 0.4581306\tbest: 0.4574374 (518)\ttotal: 6.01s\tremaining: 5.53s\n",
      "530:\tlearn: 0.2144528\ttest: 0.4587272\tbest: 0.4574374 (518)\ttotal: 6.12s\tremaining: 5.41s\n",
      "540:\tlearn: 0.2115390\ttest: 0.4585914\tbest: 0.4574374 (518)\ttotal: 6.23s\tremaining: 5.28s\n",
      "550:\tlearn: 0.2083745\ttest: 0.4584491\tbest: 0.4574374 (518)\ttotal: 6.34s\tremaining: 5.16s\n",
      "560:\tlearn: 0.2053582\ttest: 0.4570549\tbest: 0.4570549 (560)\ttotal: 6.44s\tremaining: 5.04s\n",
      "570:\tlearn: 0.2026368\ttest: 0.4556163\tbest: 0.4556163 (570)\ttotal: 6.55s\tremaining: 4.92s\n",
      "580:\tlearn: 0.2000667\ttest: 0.4546374\tbest: 0.4541571 (579)\ttotal: 6.67s\tremaining: 4.81s\n",
      "590:\tlearn: 0.1980290\ttest: 0.4549419\tbest: 0.4541571 (579)\ttotal: 6.78s\tremaining: 4.69s\n",
      "600:\tlearn: 0.1952878\ttest: 0.4541821\tbest: 0.4541571 (579)\ttotal: 6.89s\tremaining: 4.57s\n",
      "610:\tlearn: 0.1921745\ttest: 0.4542431\tbest: 0.4533987 (602)\ttotal: 7.01s\tremaining: 4.46s\n",
      "620:\tlearn: 0.1895258\ttest: 0.4553744\tbest: 0.4533987 (602)\ttotal: 7.12s\tremaining: 4.34s\n",
      "630:\tlearn: 0.1872789\ttest: 0.4555589\tbest: 0.4533987 (602)\ttotal: 7.23s\tremaining: 4.23s\n",
      "640:\tlearn: 0.1845074\ttest: 0.4548515\tbest: 0.4533987 (602)\ttotal: 7.34s\tremaining: 4.11s\n",
      "650:\tlearn: 0.1823405\ttest: 0.4542815\tbest: 0.4533987 (602)\ttotal: 7.45s\tremaining: 4s\n",
      "660:\tlearn: 0.1796538\ttest: 0.4537762\tbest: 0.4533987 (602)\ttotal: 7.56s\tremaining: 3.88s\n",
      "670:\tlearn: 0.1776105\ttest: 0.4543416\tbest: 0.4533987 (602)\ttotal: 7.67s\tremaining: 3.76s\n",
      "680:\tlearn: 0.1756748\ttest: 0.4542557\tbest: 0.4533987 (602)\ttotal: 7.78s\tremaining: 3.64s\n",
      "690:\tlearn: 0.1737922\ttest: 0.4544701\tbest: 0.4533987 (602)\ttotal: 7.89s\tremaining: 3.53s\n",
      "700:\tlearn: 0.1714948\ttest: 0.4539973\tbest: 0.4533987 (602)\ttotal: 8.01s\tremaining: 3.41s\n",
      "710:\tlearn: 0.1696311\ttest: 0.4541387\tbest: 0.4533987 (602)\ttotal: 8.12s\tremaining: 3.3s\n",
      "720:\tlearn: 0.1667425\ttest: 0.4548460\tbest: 0.4533987 (602)\ttotal: 8.23s\tremaining: 3.19s\n",
      "730:\tlearn: 0.1645774\ttest: 0.4546648\tbest: 0.4533987 (602)\ttotal: 8.34s\tremaining: 3.07s\n",
      "740:\tlearn: 0.1626355\ttest: 0.4558674\tbest: 0.4533987 (602)\ttotal: 8.46s\tremaining: 2.96s\n",
      "750:\tlearn: 0.1604393\ttest: 0.4569577\tbest: 0.4533987 (602)\ttotal: 8.57s\tremaining: 2.84s\n",
      "760:\tlearn: 0.1586790\ttest: 0.4569323\tbest: 0.4533987 (602)\ttotal: 8.68s\tremaining: 2.73s\n",
      "770:\tlearn: 0.1569195\ttest: 0.4574484\tbest: 0.4533987 (602)\ttotal: 8.79s\tremaining: 2.61s\n",
      "780:\tlearn: 0.1547524\ttest: 0.4602068\tbest: 0.4533987 (602)\ttotal: 8.9s\tremaining: 2.5s\n",
      "790:\tlearn: 0.1531245\ttest: 0.4603493\tbest: 0.4533987 (602)\ttotal: 9.02s\tremaining: 2.38s\n",
      "800:\tlearn: 0.1515343\ttest: 0.4603728\tbest: 0.4533987 (602)\ttotal: 9.13s\tremaining: 2.27s\n",
      "810:\tlearn: 0.1494725\ttest: 0.4604363\tbest: 0.4533987 (602)\ttotal: 9.24s\tremaining: 2.15s\n",
      "820:\tlearn: 0.1478123\ttest: 0.4609042\tbest: 0.4533987 (602)\ttotal: 9.36s\tremaining: 2.04s\n",
      "830:\tlearn: 0.1464073\ttest: 0.4614742\tbest: 0.4533987 (602)\ttotal: 9.47s\tremaining: 1.93s\n",
      "840:\tlearn: 0.1450644\ttest: 0.4618656\tbest: 0.4533987 (602)\ttotal: 9.59s\tremaining: 1.81s\n",
      "850:\tlearn: 0.1430159\ttest: 0.4627189\tbest: 0.4533987 (602)\ttotal: 9.7s\tremaining: 1.7s\n",
      "860:\tlearn: 0.1410709\ttest: 0.4644135\tbest: 0.4533987 (602)\ttotal: 9.81s\tremaining: 1.58s\n",
      "870:\tlearn: 0.1396841\ttest: 0.4647773\tbest: 0.4533987 (602)\ttotal: 9.92s\tremaining: 1.47s\n",
      "880:\tlearn: 0.1381854\ttest: 0.4663735\tbest: 0.4533987 (602)\ttotal: 10s\tremaining: 1.35s\n",
      "890:\tlearn: 0.1367634\ttest: 0.4674045\tbest: 0.4533987 (602)\ttotal: 10.1s\tremaining: 1.24s\n",
      "900:\tlearn: 0.1349702\ttest: 0.4676232\tbest: 0.4533987 (602)\ttotal: 10.3s\tremaining: 1.13s\n",
      "910:\tlearn: 0.1334152\ttest: 0.4694708\tbest: 0.4533987 (602)\ttotal: 10.4s\tremaining: 1.01s\n",
      "920:\tlearn: 0.1319354\ttest: 0.4710861\tbest: 0.4533987 (602)\ttotal: 10.5s\tremaining: 899ms\n",
      "930:\tlearn: 0.1305460\ttest: 0.4706860\tbest: 0.4533987 (602)\ttotal: 10.6s\tremaining: 785ms\n",
      "940:\tlearn: 0.1290047\ttest: 0.4706967\tbest: 0.4533987 (602)\ttotal: 10.7s\tremaining: 671ms\n",
      "950:\tlearn: 0.1275683\ttest: 0.4713644\tbest: 0.4533987 (602)\ttotal: 10.8s\tremaining: 557ms\n",
      "960:\tlearn: 0.1262338\ttest: 0.4722524\tbest: 0.4533987 (602)\ttotal: 10.9s\tremaining: 444ms\n",
      "970:\tlearn: 0.1247581\ttest: 0.4720665\tbest: 0.4533987 (602)\ttotal: 11s\tremaining: 330ms\n",
      "980:\tlearn: 0.1233817\ttest: 0.4723948\tbest: 0.4533987 (602)\ttotal: 11.2s\tremaining: 216ms\n",
      "990:\tlearn: 0.1220932\ttest: 0.4732779\tbest: 0.4533987 (602)\ttotal: 11.3s\tremaining: 102ms\n",
      "999:\tlearn: 0.1210399\ttest: 0.4742447\tbest: 0.4533987 (602)\ttotal: 11.4s\tremaining: 0us\n",
      "\n",
      "bestTest = 0.453398674\n",
      "bestIteration = 602\n",
      "\n",
      "Shrink model to first 603 iterations.\n"
     ]
    },
    {
     "data": {
      "text/plain": [
       "<catboost.core.CatBoostClassifier at 0x7f82419c7640>"
      ]
     },
     "execution_count": 41,
     "metadata": {},
     "output_type": "execute_result"
    }
   ],
   "source": [
    "reranker.fit(\n",
    "    X_train,\n",
    "    y_train,\n",
    "    eval_set=(X_test, y_test),\n",
    "    text_features=[\"author_comment\"]\n",
    ")"
   ]
  },
  {
   "cell_type": "code",
   "execution_count": 42,
   "id": "63807451-61ed-41e2-9394-98a70c623260",
   "metadata": {},
   "outputs": [
    {
     "name": "stdout",
     "output_type": "stream",
     "text": [
      "              precision    recall  f1-score   support\n",
      "\n",
      "         0.0       0.82      0.87      0.84       135\n",
      "         1.0       0.71      0.63      0.67        70\n",
      "\n",
      "    accuracy                           0.79       205\n",
      "   macro avg       0.76      0.75      0.75       205\n",
      "weighted avg       0.78      0.79      0.78       205\n",
      "\n",
      "roc_auc_score: 0.8457142857142859\n"
     ]
    }
   ],
   "source": [
    "y_pred = reranker.predict(X_test)\n",
    "print(classification_report(y_test, y_pred))\n",
    "y_pred = reranker.predict_proba(X_test)[:, 1]\n",
    "print(f'roc_auc_score: {roc_auc_score(y_test, y_pred)}')"
   ]
  },
  {
   "cell_type": "markdown",
   "id": "b1931220-304d-4360-8bbc-fd8cc7663a44",
   "metadata": {},
   "source": [
    "# Feature-wise + text features"
   ]
  },
  {
   "cell_type": "code",
   "execution_count": 43,
   "id": "51bdd4a8-6b73-472b-a31b-e00fd8356a98",
   "metadata": {},
   "outputs": [],
   "source": [
    "train = pd.read_excel(\"../data/train/merged_executed.xlsx\")\n",
    "generated = pd.read_excel(\"../data/train/merged_executed_generated.xlsx\")"
   ]
  },
  {
   "cell_type": "code",
   "execution_count": 44,
   "id": "1ea9cf22-129e-42ac-9558-d3cebf52f72e",
   "metadata": {},
   "outputs": [],
   "source": [
    "real_y = np.ones(train.shape[0])\n",
    "fake_y = np.zeros(generated.shape[0])"
   ]
  },
  {
   "cell_type": "code",
   "execution_count": 45,
   "id": "be51ef04-5898-463c-a97f-ea203722f992",
   "metadata": {},
   "outputs": [
    {
     "name": "stderr",
     "output_type": "stream",
     "text": [
      "100%|██████████| 347/347 [00:02<00:00, 159.73it/s]\n"
     ]
    },
    {
     "data": {
      "text/plain": [
       "((347, 768), (347,))"
      ]
     },
     "execution_count": 45,
     "metadata": {},
     "output_type": "execute_result"
    }
   ],
   "source": [
    "real_train_answer_embeddings = np.stack(train.author_comment.progress_apply(get_sentence_embedding).to_numpy())\n",
    "\n",
    "real_train_answer_embeddings.shape, real_y.shape"
   ]
  },
  {
   "cell_type": "code",
   "execution_count": 46,
   "id": "e672cdab-956d-4529-9183-3834bb50cec7",
   "metadata": {},
   "outputs": [
    {
     "name": "stderr",
     "output_type": "stream",
     "text": [
      "100%|██████████| 676/676 [00:04<00:00, 161.77it/s]\n"
     ]
    },
    {
     "data": {
      "text/plain": [
       "((676, 768), (676,))"
      ]
     },
     "execution_count": 46,
     "metadata": {},
     "output_type": "execute_result"
    }
   ],
   "source": [
    "fake_train_answer_embeddings = np.stack(generated.author_comment.progress_apply(get_sentence_embedding).to_numpy())\n",
    "\n",
    "fake_train_answer_embeddings.shape, fake_y.shape"
   ]
  },
  {
   "cell_type": "code",
   "execution_count": 47,
   "id": "505c5873-a1fe-4aa3-8984-c969e5eb91d1",
   "metadata": {},
   "outputs": [],
   "source": [
    "real_train_answer_texts = train[\"author_comment\"].tolist()\n",
    "fake_train_answer_texts = generated[\"author_comment\"].tolist()"
   ]
  },
  {
   "cell_type": "code",
   "execution_count": 50,
   "id": "2ae15a71-4909-4054-8062-f10b7cc27af9",
   "metadata": {},
   "outputs": [],
   "source": [
    "real_features = pd.DataFrame({i:real_train_answer_embeddings[:, i] for i in range(real_train_answer_embeddings.shape[1])})\n",
    "fake_features = pd.DataFrame({i:fake_train_answer_embeddings[:, i] for i in range(fake_train_answer_embeddings.shape[1])})\n",
    "\n",
    "real_features[\"author_comment\"] = real_train_answer_texts\n",
    "fake_features[\"author_comment\"] = fake_train_answer_texts"
   ]
  },
  {
   "cell_type": "code",
   "execution_count": 51,
   "id": "57450c69-ff4f-4367-8714-88a3bec109e0",
   "metadata": {},
   "outputs": [
    {
     "name": "stderr",
     "output_type": "stream",
     "text": [
      "/tmp/ipykernel_626888/216347980.py:1: FutureWarning: The frame.append method is deprecated and will be removed from pandas in a future version. Use pandas.concat instead.\n",
      "  X, y = real_features.append(fake_features), np.vstack([real_y.reshape(-1, 1), fake_y.reshape(-1, 1)])\n"
     ]
    }
   ],
   "source": [
    "X, y = real_features.append(fake_features), np.vstack([real_y.reshape(-1, 1), fake_y.reshape(-1, 1)])"
   ]
  },
  {
   "cell_type": "code",
   "execution_count": 53,
   "id": "0ccc6520-b059-462a-8236-a7aaadcb01f3",
   "metadata": {},
   "outputs": [
    {
     "data": {
      "text/plain": [
       "((1023, 769), (1023, 1))"
      ]
     },
     "execution_count": 53,
     "metadata": {},
     "output_type": "execute_result"
    }
   ],
   "source": [
    "X.shape, y.shape"
   ]
  },
  {
   "cell_type": "code",
   "execution_count": 54,
   "id": "7c45e17f-f629-4bb1-bec0-ba0c2098d3aa",
   "metadata": {},
   "outputs": [],
   "source": [
    "from sklearn.model_selection import train_test_split\n",
    "\n",
    "X_train, X_test, y_train, y_test = train_test_split(X, y, stratify=y, test_size=0.2, random_state=42)"
   ]
  },
  {
   "cell_type": "code",
   "execution_count": 55,
   "id": "ec4e6bff-81ff-4a54-a07e-8fe406b6f98c",
   "metadata": {},
   "outputs": [],
   "source": [
    "reranker = CatBoostClassifier(\n",
    "    random_state=42,\n",
    "    verbose=10\n",
    ")"
   ]
  },
  {
   "cell_type": "code",
   "execution_count": 56,
   "id": "edb856cc-e614-4762-b7f9-99b8330e14bc",
   "metadata": {
    "scrolled": true
   },
   "outputs": [
    {
     "name": "stdout",
     "output_type": "stream",
     "text": [
      "Learning rate set to 0.030155\n",
      "0:\tlearn: 0.6810169\ttest: 0.6833745\tbest: 0.6833745 (0)\ttotal: 31.6ms\tremaining: 31.6s\n",
      "10:\tlearn: 0.5897919\ttest: 0.6229006\tbest: 0.6229006 (10)\ttotal: 292ms\tremaining: 26.2s\n",
      "20:\tlearn: 0.5355024\ttest: 0.5908931\tbest: 0.5908931 (20)\ttotal: 554ms\tremaining: 25.8s\n",
      "30:\tlearn: 0.4820936\ttest: 0.5611558\tbest: 0.5611558 (30)\ttotal: 831ms\tremaining: 26s\n",
      "40:\tlearn: 0.4430988\ttest: 0.5397745\tbest: 0.5397745 (40)\ttotal: 1.1s\tremaining: 25.7s\n",
      "50:\tlearn: 0.4178252\ttest: 0.5295141\tbest: 0.5295141 (50)\ttotal: 1.35s\tremaining: 25.2s\n",
      "60:\tlearn: 0.3846432\ttest: 0.5153070\tbest: 0.5153070 (60)\ttotal: 1.66s\tremaining: 25.5s\n",
      "70:\tlearn: 0.3614731\ttest: 0.5074104\tbest: 0.5074104 (70)\ttotal: 1.99s\tremaining: 26.1s\n",
      "80:\tlearn: 0.3438507\ttest: 0.5018554\tbest: 0.5018116 (79)\ttotal: 2.33s\tremaining: 26.4s\n",
      "90:\tlearn: 0.3250992\ttest: 0.4946055\tbest: 0.4946055 (90)\ttotal: 2.66s\tremaining: 26.6s\n",
      "100:\tlearn: 0.3115149\ttest: 0.4912510\tbest: 0.4912510 (100)\ttotal: 3.05s\tremaining: 27.2s\n",
      "110:\tlearn: 0.2980805\ttest: 0.4883170\tbest: 0.4883170 (110)\ttotal: 3.45s\tremaining: 27.6s\n",
      "120:\tlearn: 0.2846863\ttest: 0.4857348\tbest: 0.4855423 (119)\ttotal: 3.86s\tremaining: 28s\n",
      "130:\tlearn: 0.2738769\ttest: 0.4842999\tbest: 0.4839930 (128)\ttotal: 4.26s\tremaining: 28.3s\n",
      "140:\tlearn: 0.2617908\ttest: 0.4798411\tbest: 0.4798411 (140)\ttotal: 4.7s\tremaining: 28.6s\n",
      "150:\tlearn: 0.2538432\ttest: 0.4782123\tbest: 0.4782123 (150)\ttotal: 5.11s\tremaining: 28.7s\n",
      "160:\tlearn: 0.2450556\ttest: 0.4732350\tbest: 0.4732350 (160)\ttotal: 5.53s\tremaining: 28.8s\n",
      "170:\tlearn: 0.2350749\ttest: 0.4699112\tbest: 0.4699112 (170)\ttotal: 5.96s\tremaining: 28.9s\n",
      "180:\tlearn: 0.2263328\ttest: 0.4678826\tbest: 0.4678826 (180)\ttotal: 6.37s\tremaining: 28.8s\n",
      "190:\tlearn: 0.2175144\ttest: 0.4656471\tbest: 0.4651546 (189)\ttotal: 6.8s\tremaining: 28.8s\n",
      "200:\tlearn: 0.2091622\ttest: 0.4660369\tbest: 0.4651546 (189)\ttotal: 7.24s\tremaining: 28.8s\n",
      "210:\tlearn: 0.2010779\ttest: 0.4648469\tbest: 0.4646115 (208)\ttotal: 7.67s\tremaining: 28.7s\n",
      "220:\tlearn: 0.1927573\ttest: 0.4608633\tbest: 0.4603072 (219)\ttotal: 8.12s\tremaining: 28.6s\n",
      "230:\tlearn: 0.1849961\ttest: 0.4599971\tbest: 0.4595798 (225)\ttotal: 8.56s\tremaining: 28.5s\n",
      "240:\tlearn: 0.1777912\ttest: 0.4579935\tbest: 0.4577564 (239)\ttotal: 9s\tremaining: 28.4s\n",
      "250:\tlearn: 0.1708315\ttest: 0.4568845\tbest: 0.4568343 (249)\ttotal: 9.46s\tremaining: 28.2s\n",
      "260:\tlearn: 0.1624780\ttest: 0.4588044\tbest: 0.4565430 (255)\ttotal: 9.92s\tremaining: 28.1s\n",
      "270:\tlearn: 0.1546473\ttest: 0.4582724\tbest: 0.4565430 (255)\ttotal: 10.4s\tremaining: 27.9s\n",
      "280:\tlearn: 0.1469381\ttest: 0.4575027\tbest: 0.4565430 (255)\ttotal: 10.8s\tremaining: 27.7s\n",
      "290:\tlearn: 0.1387981\ttest: 0.4571314\tbest: 0.4565430 (255)\ttotal: 11.3s\tremaining: 27.4s\n",
      "300:\tlearn: 0.1315100\ttest: 0.4567502\tbest: 0.4564751 (297)\ttotal: 11.7s\tremaining: 27.2s\n",
      "310:\tlearn: 0.1261564\ttest: 0.4567869\tbest: 0.4562141 (306)\ttotal: 12.2s\tremaining: 27s\n",
      "320:\tlearn: 0.1193345\ttest: 0.4561905\tbest: 0.4561014 (319)\ttotal: 12.6s\tremaining: 26.6s\n",
      "330:\tlearn: 0.1144740\ttest: 0.4571417\tbest: 0.4561014 (319)\ttotal: 13s\tremaining: 26.3s\n",
      "340:\tlearn: 0.1107990\ttest: 0.4588212\tbest: 0.4561014 (319)\ttotal: 13.5s\tremaining: 26.1s\n",
      "350:\tlearn: 0.1055449\ttest: 0.4598907\tbest: 0.4561014 (319)\ttotal: 13.9s\tremaining: 25.8s\n",
      "360:\tlearn: 0.1018334\ttest: 0.4596149\tbest: 0.4561014 (319)\ttotal: 14.4s\tremaining: 25.5s\n",
      "370:\tlearn: 0.0973988\ttest: 0.4616103\tbest: 0.4561014 (319)\ttotal: 14.9s\tremaining: 25.2s\n",
      "380:\tlearn: 0.0928567\ttest: 0.4621482\tbest: 0.4561014 (319)\ttotal: 15.3s\tremaining: 24.9s\n",
      "390:\tlearn: 0.0886420\ttest: 0.4624677\tbest: 0.4561014 (319)\ttotal: 15.8s\tremaining: 24.6s\n",
      "400:\tlearn: 0.0860506\ttest: 0.4620899\tbest: 0.4561014 (319)\ttotal: 16.2s\tremaining: 24.3s\n",
      "410:\tlearn: 0.0821871\ttest: 0.4620482\tbest: 0.4561014 (319)\ttotal: 16.7s\tremaining: 23.9s\n",
      "420:\tlearn: 0.0791648\ttest: 0.4637983\tbest: 0.4561014 (319)\ttotal: 17.1s\tremaining: 23.6s\n",
      "430:\tlearn: 0.0759399\ttest: 0.4640168\tbest: 0.4561014 (319)\ttotal: 17.6s\tremaining: 23.2s\n",
      "440:\tlearn: 0.0720754\ttest: 0.4649846\tbest: 0.4561014 (319)\ttotal: 17.9s\tremaining: 22.7s\n",
      "450:\tlearn: 0.0695955\ttest: 0.4634594\tbest: 0.4561014 (319)\ttotal: 18.3s\tremaining: 22.3s\n",
      "460:\tlearn: 0.0670352\ttest: 0.4653142\tbest: 0.4561014 (319)\ttotal: 18.7s\tremaining: 21.9s\n",
      "470:\tlearn: 0.0646943\ttest: 0.4668838\tbest: 0.4561014 (319)\ttotal: 19.1s\tremaining: 21.5s\n",
      "480:\tlearn: 0.0623028\ttest: 0.4663283\tbest: 0.4561014 (319)\ttotal: 19.5s\tremaining: 21.1s\n",
      "490:\tlearn: 0.0604790\ttest: 0.4665688\tbest: 0.4561014 (319)\ttotal: 19.9s\tremaining: 20.7s\n",
      "500:\tlearn: 0.0585594\ttest: 0.4684670\tbest: 0.4561014 (319)\ttotal: 20.3s\tremaining: 20.2s\n",
      "510:\tlearn: 0.0565808\ttest: 0.4694528\tbest: 0.4561014 (319)\ttotal: 20.7s\tremaining: 19.8s\n",
      "520:\tlearn: 0.0546563\ttest: 0.4705491\tbest: 0.4561014 (319)\ttotal: 21.1s\tremaining: 19.4s\n",
      "530:\tlearn: 0.0532046\ttest: 0.4716661\tbest: 0.4561014 (319)\ttotal: 21.4s\tremaining: 18.9s\n",
      "540:\tlearn: 0.0511871\ttest: 0.4726775\tbest: 0.4561014 (319)\ttotal: 21.8s\tremaining: 18.5s\n",
      "550:\tlearn: 0.0498630\ttest: 0.4739711\tbest: 0.4561014 (319)\ttotal: 22.2s\tremaining: 18.1s\n",
      "560:\tlearn: 0.0480983\ttest: 0.4750422\tbest: 0.4561014 (319)\ttotal: 22.6s\tremaining: 17.7s\n",
      "570:\tlearn: 0.0465311\ttest: 0.4764072\tbest: 0.4561014 (319)\ttotal: 23s\tremaining: 17.2s\n",
      "580:\tlearn: 0.0454570\ttest: 0.4776240\tbest: 0.4561014 (319)\ttotal: 23.3s\tremaining: 16.8s\n",
      "590:\tlearn: 0.0440109\ttest: 0.4797396\tbest: 0.4561014 (319)\ttotal: 23.7s\tremaining: 16.4s\n",
      "600:\tlearn: 0.0426891\ttest: 0.4814282\tbest: 0.4561014 (319)\ttotal: 24.1s\tremaining: 16s\n",
      "610:\tlearn: 0.0415388\ttest: 0.4825262\tbest: 0.4561014 (319)\ttotal: 24.5s\tremaining: 15.6s\n",
      "620:\tlearn: 0.0403564\ttest: 0.4856809\tbest: 0.4561014 (319)\ttotal: 24.9s\tremaining: 15.2s\n",
      "630:\tlearn: 0.0393104\ttest: 0.4873100\tbest: 0.4561014 (319)\ttotal: 25.2s\tremaining: 14.8s\n",
      "640:\tlearn: 0.0380228\ttest: 0.4880406\tbest: 0.4561014 (319)\ttotal: 25.6s\tremaining: 14.4s\n",
      "650:\tlearn: 0.0370045\ttest: 0.4913460\tbest: 0.4561014 (319)\ttotal: 26s\tremaining: 13.9s\n",
      "660:\tlearn: 0.0362712\ttest: 0.4933265\tbest: 0.4561014 (319)\ttotal: 26.4s\tremaining: 13.5s\n",
      "670:\tlearn: 0.0355264\ttest: 0.4949406\tbest: 0.4561014 (319)\ttotal: 26.8s\tremaining: 13.1s\n",
      "680:\tlearn: 0.0345259\ttest: 0.4958704\tbest: 0.4561014 (319)\ttotal: 27.1s\tremaining: 12.7s\n",
      "690:\tlearn: 0.0336813\ttest: 0.4974982\tbest: 0.4561014 (319)\ttotal: 27.5s\tremaining: 12.3s\n",
      "700:\tlearn: 0.0329075\ttest: 0.4988067\tbest: 0.4561014 (319)\ttotal: 27.9s\tremaining: 11.9s\n",
      "710:\tlearn: 0.0320123\ttest: 0.4998110\tbest: 0.4561014 (319)\ttotal: 28.3s\tremaining: 11.5s\n",
      "720:\tlearn: 0.0312840\ttest: 0.5019226\tbest: 0.4561014 (319)\ttotal: 28.6s\tremaining: 11.1s\n",
      "730:\tlearn: 0.0305647\ttest: 0.5029683\tbest: 0.4561014 (319)\ttotal: 29s\tremaining: 10.7s\n",
      "740:\tlearn: 0.0298889\ttest: 0.5044912\tbest: 0.4561014 (319)\ttotal: 29.4s\tremaining: 10.3s\n",
      "750:\tlearn: 0.0293091\ttest: 0.5055326\tbest: 0.4561014 (319)\ttotal: 29.7s\tremaining: 9.86s\n",
      "760:\tlearn: 0.0287652\ttest: 0.5056339\tbest: 0.4561014 (319)\ttotal: 30.1s\tremaining: 9.46s\n",
      "770:\tlearn: 0.0279696\ttest: 0.5072409\tbest: 0.4561014 (319)\ttotal: 30.5s\tremaining: 9.05s\n",
      "780:\tlearn: 0.0272959\ttest: 0.5083988\tbest: 0.4561014 (319)\ttotal: 30.8s\tremaining: 8.65s\n",
      "790:\tlearn: 0.0266814\ttest: 0.5090592\tbest: 0.4561014 (319)\ttotal: 31.2s\tremaining: 8.25s\n",
      "800:\tlearn: 0.0260451\ttest: 0.5091935\tbest: 0.4561014 (319)\ttotal: 31.6s\tremaining: 7.84s\n",
      "810:\tlearn: 0.0254671\ttest: 0.5101821\tbest: 0.4561014 (319)\ttotal: 32s\tremaining: 7.45s\n",
      "820:\tlearn: 0.0250266\ttest: 0.5113907\tbest: 0.4561014 (319)\ttotal: 32.3s\tremaining: 7.05s\n",
      "830:\tlearn: 0.0244825\ttest: 0.5133918\tbest: 0.4561014 (319)\ttotal: 32.7s\tremaining: 6.65s\n",
      "840:\tlearn: 0.0238136\ttest: 0.5152674\tbest: 0.4561014 (319)\ttotal: 33.1s\tremaining: 6.26s\n",
      "850:\tlearn: 0.0232817\ttest: 0.5170201\tbest: 0.4561014 (319)\ttotal: 33.5s\tremaining: 5.86s\n",
      "860:\tlearn: 0.0228603\ttest: 0.5169531\tbest: 0.4561014 (319)\ttotal: 33.8s\tremaining: 5.46s\n",
      "870:\tlearn: 0.0224363\ttest: 0.5184901\tbest: 0.4561014 (319)\ttotal: 34.2s\tremaining: 5.07s\n",
      "880:\tlearn: 0.0220829\ttest: 0.5200569\tbest: 0.4561014 (319)\ttotal: 34.6s\tremaining: 4.67s\n",
      "890:\tlearn: 0.0217088\ttest: 0.5211060\tbest: 0.4561014 (319)\ttotal: 35s\tremaining: 4.28s\n",
      "900:\tlearn: 0.0211994\ttest: 0.5220502\tbest: 0.4561014 (319)\ttotal: 35.3s\tremaining: 3.88s\n",
      "910:\tlearn: 0.0208487\ttest: 0.5232450\tbest: 0.4561014 (319)\ttotal: 35.7s\tremaining: 3.48s\n",
      "920:\tlearn: 0.0205339\ttest: 0.5238345\tbest: 0.4561014 (319)\ttotal: 36.1s\tremaining: 3.09s\n",
      "930:\tlearn: 0.0202427\ttest: 0.5246930\tbest: 0.4561014 (319)\ttotal: 36.4s\tremaining: 2.7s\n",
      "940:\tlearn: 0.0199286\ttest: 0.5261823\tbest: 0.4561014 (319)\ttotal: 36.8s\tremaining: 2.31s\n",
      "950:\tlearn: 0.0196523\ttest: 0.5267164\tbest: 0.4561014 (319)\ttotal: 37.1s\tremaining: 1.91s\n",
      "960:\tlearn: 0.0192578\ttest: 0.5292647\tbest: 0.4561014 (319)\ttotal: 37.4s\tremaining: 1.52s\n",
      "970:\tlearn: 0.0189449\ttest: 0.5309478\tbest: 0.4561014 (319)\ttotal: 37.7s\tremaining: 1.13s\n",
      "980:\tlearn: 0.0186808\ttest: 0.5325239\tbest: 0.4561014 (319)\ttotal: 38s\tremaining: 737ms\n",
      "990:\tlearn: 0.0183915\ttest: 0.5331809\tbest: 0.4561014 (319)\ttotal: 38.3s\tremaining: 348ms\n",
      "999:\tlearn: 0.0181292\ttest: 0.5345739\tbest: 0.4561014 (319)\ttotal: 38.6s\tremaining: 0us\n",
      "\n",
      "bestTest = 0.4561013964\n",
      "bestIteration = 319\n",
      "\n",
      "Shrink model to first 320 iterations.\n"
     ]
    },
    {
     "data": {
      "text/plain": [
       "<catboost.core.CatBoostClassifier at 0x7f824172fee0>"
      ]
     },
     "execution_count": 56,
     "metadata": {},
     "output_type": "execute_result"
    }
   ],
   "source": [
    "reranker.fit(\n",
    "    X_train,\n",
    "    y_train,\n",
    "    eval_set=(X_test, y_test),\n",
    "    text_features=[\"author_comment\"]\n",
    ")"
   ]
  },
  {
   "cell_type": "code",
   "execution_count": 57,
   "id": "13b0ffb6-46b1-4d01-a5cf-4e80e7557ca5",
   "metadata": {},
   "outputs": [
    {
     "name": "stdout",
     "output_type": "stream",
     "text": [
      "              precision    recall  f1-score   support\n",
      "\n",
      "         0.0       0.81      0.86      0.83       135\n",
      "         1.0       0.69      0.60      0.64        70\n",
      "\n",
      "    accuracy                           0.77       205\n",
      "   macro avg       0.75      0.73      0.74       205\n",
      "weighted avg       0.77      0.77      0.77       205\n",
      "\n",
      "roc_auc_score: 0.8455555555555556\n"
     ]
    }
   ],
   "source": [
    "y_pred = reranker.predict(X_test)\n",
    "print(classification_report(y_test, y_pred))\n",
    "y_pred = reranker.predict_proba(X_test)[:, 1]\n",
    "print(f'roc_auc_score: {roc_auc_score(y_test, y_pred)}')"
   ]
  },
  {
   "cell_type": "code",
   "execution_count": null,
   "id": "f44a6691-9294-4d1f-ad0a-1cf8f70d05c2",
   "metadata": {},
   "outputs": [],
   "source": []
  }
 ],
 "metadata": {
  "kernelspec": {
   "display_name": "Python [conda env:.mlspace-kuzhamuratov-temporalmovqgan]",
   "language": "python",
   "name": "conda-env-.mlspace-kuzhamuratov-temporalmovqgan-py"
  },
  "language_info": {
   "codemirror_mode": {
    "name": "ipython",
    "version": 3
   },
   "file_extension": ".py",
   "mimetype": "text/x-python",
   "name": "python",
   "nbconvert_exporter": "python",
   "pygments_lexer": "ipython3",
   "version": "3.10.14"
  }
 },
 "nbformat": 4,
 "nbformat_minor": 5
}
