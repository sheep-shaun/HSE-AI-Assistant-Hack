{
 "cells": [
  {
   "cell_type": "code",
   "execution_count": 37,
   "id": "ddc12fad-a6e1-40c7-8aac-1840f9f56f40",
   "metadata": {},
   "outputs": [
    {
     "name": "stdout",
     "output_type": "stream",
     "text": [
      "/home/jovyan/novitskiy/HSE-AI-Assistant-Hack/notebooks\n"
     ]
    }
   ],
   "source": [
    "!pwd"
   ]
  },
  {
   "cell_type": "code",
   "execution_count": 1,
   "id": "1b15d192-618c-4fb0-b27f-83d1a1624fce",
   "metadata": {},
   "outputs": [],
   "source": [
    "import sys\n",
    "\n",
    "sys.path.append(\"/home/jovyan/novitskiy/HSE-AI-Assistant-Hack/\")"
   ]
  },
  {
   "cell_type": "code",
   "execution_count": 2,
   "id": "e70a4b13-77a6-44e4-8ff5-3b9152051cab",
   "metadata": {},
   "outputs": [],
   "source": [
    "CLIENT_ID = \"ce8008fe-77f8-4869-a1ac-2245690df403\"\n",
    "AUTH_KEY = \"Y2U4MDA4ZmUtNzdmOC00ODY5LWExYWMtMjI0NTY5MGRmNDAzOmIwODBlZjQ1LWVjMDMtNDJjMy05MjcxLTE5Yjc0YWQ2YWEwYg==\""
   ]
  },
  {
   "cell_type": "code",
   "execution_count": 3,
   "id": "7a081cf1-48ea-4ef7-a378-baf843cc47a4",
   "metadata": {
    "scrolled": true
   },
   "outputs": [],
   "source": [
    "# !pip install langchain \n",
    "# !pip install -U langchain-community\n",
    "# !pip install gigachat"
   ]
  },
  {
   "cell_type": "code",
   "execution_count": 4,
   "id": "fbbbd29d-fb6e-4f63-85b2-1250241caa0e",
   "metadata": {
    "scrolled": true
   },
   "outputs": [],
   "source": [
    "from langchain.schema import HumanMessage, SystemMessage, AIMessage\n",
    "from langchain.chat_models.gigachat import GigaChat\n",
    "from typing import Optional\n",
    "\n",
    "from app.models.base import BaseModel\n",
    "from app.models.llms import GigaChatWrapper\n",
    "\n",
    "\n",
    "giga = GigaChatWrapper(\n",
    "    credentials=AUTH_KEY, \n",
    "    model=\"GigaChat\", \n",
    "    system_prompt=\"Ты - Нейросеть - программист\"\n",
    ")"
   ]
  },
  {
   "cell_type": "code",
   "execution_count": 5,
   "id": "6f22e4c0-7283-4170-a297-fbb1a39702dd",
   "metadata": {},
   "outputs": [
    {
     "name": "stderr",
     "output_type": "stream",
     "text": [
      "/home/jovyan/novitskiy/HSE-AI-Assistant-Hack/app/models/llms.py:181: LangChainDeprecationWarning: The method `BaseChatModel.__call__` was deprecated in langchain-core 0.1.7 and will be removed in 1.0. Use :meth:`~invoke` instead.\n",
      "  output = self.giga(self.messages)\n"
     ]
    },
    {
     "name": "stdout",
     "output_type": "stream",
     "text": [
      "Для решения задачи о выполнении DFS (глубокого поиска в графе) можно использовать следующий код на Python:\n",
      "\n",
      "```python\n",
      "def dfs(graph, start):\n",
      "    visited = [False] * len(graph)\n",
      "    stack = []\n",
      "    stack.append(start)\n",
      "    \n",
      "    while stack:\n",
      "        current_node = stack.pop()\n",
      "        \n",
      "        if not visited[current_node]:\n",
      "            visited[current_node] = True\n",
      "            \n",
      "            for neighbor in graph[current_node]:\n",
      "                if not visited[neighbor]:\n",
      "                    stack.append(neighbor)\n",
      "                    \n",
      "    return visited\n",
      "\n",
      "# Пример использования функции\n",
      "graph = {0: [1], 1: [2]}\n",
      "visited = dfs(graph, 0)\n",
      "print(visited)\n",
      "```\n",
      "\n",
      "В этом коде функция `dfs` принимает два аргумента: граф `graph` и начальную вершину `start`. Функция использует стек для хранения вершин, которые еще не были посещены. Каждая вершина добавляется в стек после того, как она была посещена, и все ее соседи, которые еще не были посещены, также добавляются в стек. Когда стек пустеет, поиск завершается.\n",
      "\n",
      "Пример использования функции `dfs` приведен после определения функции.\n"
     ]
    }
   ],
   "source": [
    "print(giga.ask(\"Напиши код для DFS на Python\"))"
   ]
  }
 ],
 "metadata": {
  "kernelspec": {
   "display_name": "Python [conda env:.mlspace-kuzhamuratov-temporalmovqgan]",
   "language": "python",
   "name": "conda-env-.mlspace-kuzhamuratov-temporalmovqgan-py"
  },
  "language_info": {
   "codemirror_mode": {
    "name": "ipython",
    "version": 3
   },
   "file_extension": ".py",
   "mimetype": "text/x-python",
   "name": "python",
   "nbconvert_exporter": "python",
   "pygments_lexer": "ipython3",
   "version": "3.10.14"
  }
 },
 "nbformat": 4,
 "nbformat_minor": 5
}
