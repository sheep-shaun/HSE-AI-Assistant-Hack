{
 "cells": [
  {
   "cell_type": "code",
   "execution_count": 1,
   "metadata": {},
   "outputs": [],
   "source": [
    "import sys\n",
    "\n",
    "sys.path.append(\"..\")\n",
    "\n",
    "import pandas as pd\n",
    "from sklearn.model_selection import train_test_split\n",
    "\n",
    "from app.utils.dataset import merge_datasets"
   ]
  },
  {
   "cell_type": "code",
   "execution_count": 2,
   "metadata": {},
   "outputs": [],
   "source": [
    "train_solutions = pd.read_excel(\"../data/train/solutions.xlsx\")\n",
    "train_tasks = pd.read_excel(\"../data/train/tasks.xlsx\")\n",
    "train_tests = pd.read_excel(\"../data/train/tests.xlsx\")\n",
    "train = merge_datasets(train_solutions, train_tasks, train_tests)\n",
    "train.to_excel(\"../data/train/merged.xlsx\")"
   ]
  },
  {
   "cell_type": "code",
   "execution_count": 3,
   "metadata": {},
   "outputs": [],
   "source": [
    "test_solutions = pd.read_excel(\"../data/test/solutions.xlsx\")\n",
    "test_tasks = pd.read_excel(\"../data/test/tasks.xlsx\")\n",
    "test_tests = pd.read_excel(\"../data/test/tests.xlsx\")\n",
    "test = merge_datasets(test_solutions, test_tasks, test_tests)\n",
    "test.to_excel(\"../data/test/merged.xlsx\")"
   ]
  },
  {
   "cell_type": "code",
   "execution_count": null,
   "metadata": {},
   "outputs": [],
   "source": []
  }
 ],
 "metadata": {
  "kernelspec": {
   "display_name": "hse-aiahp-baseline-0zVz7hvw-py3.11",
   "language": "python",
   "name": "python3"
  },
  "language_info": {
   "codemirror_mode": {
    "name": "ipython",
    "version": 3
   },
   "file_extension": ".py",
   "mimetype": "text/x-python",
   "name": "python",
   "nbconvert_exporter": "python",
   "pygments_lexer": "ipython3",
   "version": "3.11.4"
  }
 },
 "nbformat": 4,
 "nbformat_minor": 2
}
