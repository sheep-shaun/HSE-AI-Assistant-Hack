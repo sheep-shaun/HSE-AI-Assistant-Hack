{
 "cells": [
  {
   "cell_type": "code",
   "execution_count": 1,
   "metadata": {},
   "outputs": [],
   "source": [
    "import sys\n",
    "\n",
    "sys.path.append(\"..\")\n",
    "\n",
    "import random\n",
    "import pandas as pd\n",
    "\n",
    "from app.utils.dataset import merge_datasets\n",
    "\n",
    "random.seed(4252)"
   ]
  },
  {
   "cell_type": "code",
   "execution_count": 2,
   "metadata": {},
   "outputs": [],
   "source": [
    "train_solutions = pd.read_excel(\"../data/train/solutions.xlsx\")\n",
    "train_tasks = pd.read_excel(\"../data/train/tasks.xlsx\")\n",
    "train_tests = pd.read_excel(\"../data/train/tests.xlsx\")\n",
    "train = merge_datasets(train_solutions, train_tasks, train_tests)\n",
    "# train.to_excel(\"../data/train/merged.xlsx\")"
   ]
  },
  {
   "cell_type": "code",
   "execution_count": 3,
   "metadata": {},
   "outputs": [],
   "source": [
    "test_solutions = pd.read_excel(\"../data/test/solutions.xlsx\")\n",
    "test_tasks = pd.read_excel(\"../data/test/tasks.xlsx\")\n",
    "test_tests = pd.read_excel(\"../data/test/tests.xlsx\")\n",
    "test = merge_datasets(test_solutions, test_tasks, test_tests)\n",
    "# test.to_excel(\"../data/test/merged.xlsx\")"
   ]
  },
  {
   "cell_type": "code",
   "execution_count": 4,
   "metadata": {},
   "outputs": [
    {
     "data": {
      "text/plain": [
       "[35, 43, 3, 1, 40]"
      ]
     },
     "execution_count": 4,
     "metadata": {},
     "output_type": "execute_result"
    }
   ],
   "source": [
    "test_size = 0.2\n",
    "\n",
    "task_ids = list(set(train[\"task_id\"].tolist()))\n",
    "random.shuffle(task_ids)\n",
    "\n",
    "test_task_ids = task_ids[:round(len(task_ids) * test_size) + 1]\n",
    "test_task_ids"
   ]
  },
  {
   "cell_type": "code",
   "execution_count": 5,
   "metadata": {},
   "outputs": [
    {
     "data": {
      "text/plain": [
       "level\n",
       "B    59\n",
       "C    24\n",
       "Name: count, dtype: int64"
      ]
     },
     "execution_count": 5,
     "metadata": {},
     "output_type": "execute_result"
    }
   ],
   "source": [
    "train.query(f\"task_id in {test_task_ids}\")[\"level\"].value_counts()"
   ]
  },
  {
   "cell_type": "code",
   "execution_count": 6,
   "metadata": {},
   "outputs": [
    {
     "data": {
      "text/plain": [
       "level\n",
       "B    236\n",
       "C    111\n",
       "Name: count, dtype: int64"
      ]
     },
     "execution_count": 6,
     "metadata": {},
     "output_type": "execute_result"
    }
   ],
   "source": [
    "train[\"level\"].value_counts()"
   ]
  },
  {
   "cell_type": "code",
   "execution_count": 7,
   "metadata": {},
   "outputs": [],
   "source": [
    "train.query(f\"task_id in {test_task_ids}\").to_excel(\"../data/train/merged_test.xlsx\")\n",
    "train.query(f\"task_id not in {test_task_ids}\").to_excel(\"../data/train/merged_train.xlsx\")"
   ]
  },
  {
   "cell_type": "code",
   "execution_count": null,
   "metadata": {},
   "outputs": [],
   "source": []
  }
 ],
 "metadata": {
  "kernelspec": {
   "display_name": "hse-aiahp-baseline-0zVz7hvw-py3.11",
   "language": "python",
   "name": "python3"
  },
  "language_info": {
   "codemirror_mode": {
    "name": "ipython",
    "version": 3
   },
   "file_extension": ".py",
   "mimetype": "text/x-python",
   "name": "python",
   "nbconvert_exporter": "python",
   "pygments_lexer": "ipython3",
   "version": "3.11.4"
  }
 },
 "nbformat": 4,
 "nbformat_minor": 2
}
