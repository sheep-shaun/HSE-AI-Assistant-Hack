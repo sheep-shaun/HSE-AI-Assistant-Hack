{
 "cells": [
  {
   "cell_type": "code",
   "execution_count": 1,
   "metadata": {},
   "outputs": [
    {
     "name": "stderr",
     "output_type": "stream",
     "text": [
      "/home/jovyan/.mlspace/envs/kuzhamuratov-temporalmovqgan/lib/python3.10/site-packages/tqdm/auto.py:21: TqdmWarning: IProgress not found. Please update jupyter and ipywidgets. See https://ipywidgets.readthedocs.io/en/stable/user_install.html\n",
      "  from .autonotebook import tqdm as notebook_tqdm\n"
     ]
    },
    {
     "name": "stdout",
     "output_type": "stream",
     "text": [
      "Loading models...OK\n"
     ]
    }
   ],
   "source": [
    "import os\n",
    "import sys\n",
    "\n",
    "sys.path.append(\"..\")\n",
    "\n",
    "import ast\n",
    "import time\n",
    "import pandas as pd\n",
    "from dotenv import load_dotenv\n",
    "\n",
    "from typing import Optional\n",
    "\n",
    "from app.models.retriever import Retriever\n",
    "# from app.utils.metric import validate\n",
    "from app.utils.submit import generate_submit\n",
    "\n",
    "\n",
    "from scipy.spatial.distance import cosine\n",
    "from sklearn.neighbors import NearestNeighbors"
   ]
  },
  {
   "cell_type": "code",
   "execution_count": 2,
   "metadata": {},
   "outputs": [],
   "source": [
    "test = pd.read_excel(\"../data/test/merged_executed.xlsx\")\n",
    "train = pd.read_excel(\"../data/train/merged_executed.xlsx\")"
   ]
  },
  {
   "cell_type": "code",
   "execution_count": 3,
   "metadata": {},
   "outputs": [
    {
     "data": {
      "text/plain": [
       "((347, 16), (347, 768))"
      ]
     },
     "execution_count": 3,
     "metadata": {},
     "output_type": "execute_result"
    }
   ],
   "source": [
    "train.shape, Retriever.read_embeddings('/home/jovyan/novitskiy/HSE-AI-Assistant-Hack/data/train/train.npy').shape"
   ]
  },
  {
   "cell_type": "code",
   "execution_count": 4,
   "metadata": {},
   "outputs": [
    {
     "data": {
      "text/plain": [
       "((325, 16), (325, 768))"
      ]
     },
     "execution_count": 4,
     "metadata": {},
     "output_type": "execute_result"
    }
   ],
   "source": [
    "test.shape, Retriever.read_embeddings('/home/jovyan/novitskiy/HSE-AI-Assistant-Hack/data/test/test.npy').shape"
   ]
  },
  {
   "cell_type": "code",
   "execution_count": 5,
   "metadata": {},
   "outputs": [],
   "source": [
    "retriever = Retriever(\n",
    "    train_embeddings=Retriever.read_embeddings('/home/jovyan/novitskiy/HSE-AI-Assistant-Hack/data/train/train.npy'), \n",
    "    test_embeddings=Retriever.read_embeddings('/home/jovyan/novitskiy/HSE-AI-Assistant-Hack/data/test/test.npy'), \n",
    "    train_df=train\n",
    ")"
   ]
  },
  {
   "cell_type": "code",
   "execution_count": 6,
   "metadata": {},
   "outputs": [],
   "source": [
    "def predict(row: pd.Series) -> Optional[str]:\n",
    "    return retriever.query(row[\"Unnamed: 0\"])"
   ]
  },
  {
   "cell_type": "code",
   "execution_count": 7,
   "metadata": {},
   "outputs": [
    {
     "name": "stdout",
     "output_type": "stream",
     "text": [
      "Предикт Retriever'а:\n",
      "Ошибка в открытых и скрытых тестах. \n",
      "\n",
      "Обратите внимание, что вы должны проверить, что условия (\"состоят только из заглавных букв и в которых нет знака подчеркивания\") выполняются одновременно.\n",
      "\n",
      "\n",
      "\n",
      "Решение студента:\n",
      "discount  = float(input())\n",
      "money = int(input())\n",
      "\n",
      "#ваш код ниже\n",
      "\n",
      "print(f'Реализация проекта будет стоить {discount} тыс. руб. без скидки. Со скидой стоимость составит {money- (money * discount)} тыс. руб.')\n",
      "\n",
      "\n",
      "\n",
      "Авторское решение:\n",
      "discount  = float(input())\n",
      "money = int(input())\n",
      "\n",
      "#ваш код ниже\n",
      "\n",
      "print(f'Реализация проекта будет стоить {money} тыс. руб. без скидки. Со скидой стоимость составит {money- (money * discount)} тыс. руб.')\n"
     ]
    }
   ],
   "source": [
    "i = 3\n",
    "\n",
    "print(\"Предикт Retriever'а:\")\n",
    "print(predict(test.iloc[i]))\n",
    "print(\"\\n\\n\")\n",
    "print(\"Решение студента:\")\n",
    "print(test[\"student_solution\"][i])\n",
    "print(\"\\n\\n\")\n",
    "print(\"Авторское решение:\")\n",
    "print(test[\"author_solution\"][i])"
   ]
  },
  {
   "cell_type": "code",
   "execution_count": 8,
   "metadata": {},
   "outputs": [
    {
     "name": "stderr",
     "output_type": "stream",
     "text": [
      "Predicting: 100%|██████████| 325/325 [04:47<00:00,  1.13it/s]\n"
     ]
    }
   ],
   "source": [
    "generate_submit(\n",
    "    test_solutions_path=\"../data/test/merged_executed.xlsx\",\n",
    "    predict_func=predict,\n",
    "    save_path=\"../data/processed/rag_submission.csv\",\n",
    "    use_tqdm=True,\n",
    ")"
   ]
  },
  {
   "cell_type": "code",
   "execution_count": null,
   "metadata": {},
   "outputs": [],
   "source": []
  }
 ],
 "metadata": {
  "kernelspec": {
   "display_name": "Python [conda env:.mlspace-kuzhamuratov-temporalmovqgan]",
   "language": "python",
   "name": "conda-env-.mlspace-kuzhamuratov-temporalmovqgan-py"
  },
  "language_info": {
   "codemirror_mode": {
    "name": "ipython",
    "version": 3
   },
   "file_extension": ".py",
   "mimetype": "text/x-python",
   "name": "python",
   "nbconvert_exporter": "python",
   "pygments_lexer": "ipython3",
   "version": "3.10.14"
  }
 },
 "nbformat": 4,
 "nbformat_minor": 4
}
