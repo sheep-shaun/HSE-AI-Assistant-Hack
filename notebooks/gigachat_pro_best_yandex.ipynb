{
 "cells": [
  {
   "cell_type": "code",
   "execution_count": 1,
   "metadata": {},
   "outputs": [
    {
     "name": "stderr",
     "output_type": "stream",
     "text": [
      "/home/jovyan/.mlspace/envs/kuzhamuratov-temporalmovqgan/lib/python3.10/site-packages/tqdm/auto.py:21: TqdmWarning: IProgress not found. Please update jupyter and ipywidgets. See https://ipywidgets.readthedocs.io/en/stable/user_install.html\n",
      "  from .autonotebook import tqdm as notebook_tqdm\n"
     ]
    },
    {
     "name": "stdout",
     "output_type": "stream",
     "text": [
      "Loading models...OK\n"
     ]
    }
   ],
   "source": [
    "import os\n",
    "import sys\n",
    "\n",
    "sys.path.append(\"..\")\n",
    "\n",
    "import ast\n",
    "import time\n",
    "import pandas as pd\n",
    "from dotenv import load_dotenv\n",
    "\n",
    "from typing import Optional\n",
    "\n",
    "from app.models.llms import GigaChatWrapper\n",
    "# from app.utils.metric import validate\n",
    "from app.utils.submit import generate_submit\n",
    "\n",
    "\n",
    "AUTH_KEY = \"Y2U4MDA4ZmUtNzdmOC00ODY5LWExYWMtMjI0NTY5MGRmNDAzOmYzMmVhOTc5LTVlNWUtNDIxZi1iZGRjLTZmNjY3ZTlhMjI1OQ==\"\n",
    "system_prompt = \"\"\"Ты - профессиональный программист и ментор. Давай очень короткие ответы о синтаксических ошибках в коде. Не отправляй готовое решение или куски кода, только комментарии.\"\"\"\n",
    "\n",
    "giga = GigaChatWrapper(\n",
    "    credentials=AUTH_KEY, \n",
    "    model=\"GigaChat-Pro\", \n",
    "    system_prompt=system_prompt\n",
    ")"
   ]
  },
  {
   "cell_type": "code",
   "execution_count": 2,
   "metadata": {},
   "outputs": [],
   "source": [
    "test = pd.read_excel(\"../data/test/merged_executed.xlsx\")"
   ]
  },
  {
   "cell_type": "code",
   "execution_count": 5,
   "metadata": {},
   "outputs": [],
   "source": [
    "def predict(row: pd.Series) -> Optional[str]:\n",
    "    time.sleep(1)\n",
    "    prefix = f'''Описание задачи:\n",
    "{row[\"description\"]}\\n\n",
    "Решение студента:\n",
    "{row[\"student_solution\"]}'''\n",
    "    \n",
    "    if not pd.isna(row[\"test_result\"]) and \"error\" in row[\"test_result\"].lower():\n",
    "        test_input = ast.literal_eval(row[\"test_input\"].replace(\"nan\", \"None\"))\n",
    "\n",
    "        prefix = f'''{prefix}\\n\n",
    "Тест: {test_input[int(row[\"failed_test\"])]}\n",
    "Ошибка: {row[\"test_result\"]}'''\n",
    "\n",
    "    elif not pd.isna(row[\"test_result\"]):\n",
    "        test_input = ast.literal_eval(row[\"test_input\"].replace(\"nan\", \"None\"))\n",
    "        test_output = ast.literal_eval(row[\"test_output\"].replace(\"nan\", \"None\"))\n",
    "\n",
    "        prefix = f'''{prefix}\\n\n",
    "Тест: {test_input[int(row[\"failed_test\"])]}\n",
    "Ответ решения студента: {row[\"test_result\"]}\n",
    "Правильный ответ: {test_output[int(row[\"failed_test\"])]}'''\n",
    "\n",
    "    prefix += '''\\n\\nПримеры идеальных подсказок:\n",
    "\"Ошибка в открытых и скрытых тестах. Ваш код выводит некорректную переменную.\"\n",
    "\"Синтаксическая ошибка, попытка обратиться к ранее не заданной переменной. Проверьте, что Вы правильно указали все переменные, к которым обращаетесь в коде.\"\n",
    "\"Ошибка при возвращении данных функцией. Функция не должна использовать оператор print().\"\n",
    "\"Ошибка при открытии файла. При обращении к файлу необходимо заключать его название в кавычки.\"\n",
    "\"Синтаксическая ошибка. При сравнении двух значений следует использовать знако двойного равенства.\"\n",
    "Пиши ответ в похожем стиле.\\nНачинай ответ с указания на ошибку, как в примерах. Ошибка в коде гарантированно есть. Нельзя отправлять куски кода.'''\n",
    "    # print(prefix)\n",
    "    try:\n",
    "        answer = giga.ask(prefix)\n",
    "    except:\n",
    "        print(\"Модель отвалилась\") \n",
    "        answer = \"Ошибка в открытых и скрытых тестах. Ваш код выводит некорректную переменную.\"\n",
    "        \n",
    "    return answer"
   ]
  },
  {
   "cell_type": "code",
   "execution_count": 7,
   "metadata": {},
   "outputs": [
    {
     "name": "stdout",
     "output_type": "stream",
     "text": [
      "Предикт GPT:\n",
      "Ошибка в использовании переменной \"discount\" вместо \"money\".\n",
      "\n",
      "\n",
      "\n",
      "Решение студента:\n",
      "discount  = float(input())\n",
      "money = int(input())\n",
      "\n",
      "#ваш код ниже\n",
      "\n",
      "print(f'Реализация проекта будет стоить {discount} тыс. руб. без скидки. Со скидой стоимость составит {money- (money * discount)} тыс. руб.')\n",
      "\n",
      "\n",
      "\n",
      "Авторское решение:\n",
      "discount  = float(input())\n",
      "money = int(input())\n",
      "\n",
      "#ваш код ниже\n",
      "\n",
      "print(f'Реализация проекта будет стоить {money} тыс. руб. без скидки. Со скидой стоимость составит {money- (money * discount)} тыс. руб.')\n"
     ]
    }
   ],
   "source": [
    "i = 3\n",
    "\n",
    "print(\"Предикт GPT:\")\n",
    "print(predict(test.iloc[i]))\n",
    "print(\"\\n\\n\")\n",
    "print(\"Решение студента:\")\n",
    "print(test[\"student_solution\"][i])\n",
    "print(\"\\n\\n\")\n",
    "print(\"Авторское решение:\")\n",
    "print(test[\"author_solution\"][i])"
   ]
  },
  {
   "cell_type": "code",
   "execution_count": 8,
   "metadata": {},
   "outputs": [
    {
     "name": "stderr",
     "output_type": "stream",
     "text": [
      "Predicting: 100%|██████████| 325/325 [27:07<00:00,  5.01s/it] \n"
     ]
    }
   ],
   "source": [
    "generate_submit(\n",
    "    test_solutions_path=\"../data/test/merged_executed.xlsx\",\n",
    "    predict_func=predict,\n",
    "    save_path=\"../data/processed/gigachat_pro_prompt_v2_0.csv\",\n",
    "    use_tqdm=True,\n",
    ")"
   ]
  },
  {
   "cell_type": "code",
   "execution_count": null,
   "metadata": {},
   "outputs": [],
   "source": []
  }
 ],
 "metadata": {
  "kernelspec": {
   "display_name": "Python [conda env:.mlspace-kuzhamuratov-temporalmovqgan]",
   "language": "python",
   "name": "conda-env-.mlspace-kuzhamuratov-temporalmovqgan-py"
  },
  "language_info": {
   "codemirror_mode": {
    "name": "ipython",
    "version": 3
   },
   "file_extension": ".py",
   "mimetype": "text/x-python",
   "name": "python",
   "nbconvert_exporter": "python",
   "pygments_lexer": "ipython3",
   "version": "3.10.14"
  }
 },
 "nbformat": 4,
 "nbformat_minor": 4
}
