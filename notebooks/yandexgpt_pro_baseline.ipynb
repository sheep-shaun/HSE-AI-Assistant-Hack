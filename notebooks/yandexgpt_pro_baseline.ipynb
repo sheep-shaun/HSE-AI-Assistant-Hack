{
 "cells": [
  {
   "cell_type": "code",
   "execution_count": 1,
   "metadata": {},
   "outputs": [
    {
     "name": "stdout",
     "output_type": "stream",
     "text": [
      "Loading models...OK\n"
     ]
    }
   ],
   "source": [
    "import os\n",
    "import sys\n",
    "\n",
    "sys.path.append(\"..\")\n",
    "\n",
    "import time\n",
    "import pandas as pd\n",
    "from dotenv import load_dotenv\n",
    "\n",
    "from typing import Optional\n",
    "\n",
    "from app.models.yandexgpt import YandexGPT\n",
    "from app.utils.submit import generate_submit\n",
    "from app.utils.dataset import merge_datasets\n",
    "\n",
    "\n",
    "load_dotenv()\n",
    "\n",
    "yandex_gpt = YandexGPT(\n",
    "    token=os.environ[\"YANDEX_GPT_IAM_TOKEN\"],\n",
    "    folder_id=os.environ[\"YANDEX_GPT_FOLDER_ID\"],\n",
    "    model_name=\"pro\",\n",
    "    system_prompt=\"Ты - профессиональный программист и ментор. Давай очень короткие ответы о синтаксических ошибках в коде. Ошибка в коде гарантированно есть.\",\n",
    "    temperature=0.3,\n",
    ")"
   ]
  },
  {
   "cell_type": "code",
   "execution_count": 2,
   "metadata": {},
   "outputs": [],
   "source": [
    "test = pd.read_excel(\"../data/test/merged.xlsx\")"
   ]
  },
  {
   "cell_type": "code",
   "execution_count": 3,
   "metadata": {},
   "outputs": [],
   "source": [
    "def predict(row: pd.Series) -> Optional[str]:\n",
    "    time.sleep(1)\n",
    "    prefix = f'Описание задачи:\\n{row[\"description\"]}\\n\\nРешение студента:\\n{row[\"student_solution\"]}\\n\\nАвторское решение:\\n{row[\"author_solution\"]}'\n",
    "    return yandex_gpt.ask(prefix)"
   ]
  },
  {
   "cell_type": "code",
   "execution_count": 5,
   "metadata": {},
   "outputs": [
    {
     "name": "stdout",
     "output_type": "stream",
     "text": [
      "Предикт GPT:\n",
      "В представленном коде есть синтаксическая ошибка: не хватает закрывающей кавычки в f-строке.\n",
      "\n",
      "Вот исправленный код:\n",
      "\n",
      "discount  = float(input())\n",
      "money = int(input())\n",
      "\n",
      "print(f'Реализация проекта будет стоить {money} тыс. руб. без скидки. Со скидкой стоимость составит {money - (money * discount)} тыс. руб.')\n",
      "\n",
      "\n",
      "\n",
      "Решение студента:\n",
      "discount  = float(input())\n",
      "money = int(input())\n",
      "\n",
      "#ваш код ниже\n",
      "\n",
      "print(f'Реализация проекта будет стоить {money} тыс. руб. без скидки. Со скидой стоимость составит {money- (money * discount)} тыс. руб.)\n",
      "\n",
      "\n",
      "\n",
      "Авторское решение:\n",
      "discount  = float(input())\n",
      "money = int(input())\n",
      "\n",
      "#ваш код ниже\n",
      "\n",
      "print(f'Реализация проекта будет стоить {money} тыс. руб. без скидки. Со скидой стоимость составит {money- (money * discount)} тыс. руб.')\n"
     ]
    }
   ],
   "source": [
    "i = 1\n",
    "\n",
    "print(\"Предикт GPT:\")\n",
    "print(predict(test.iloc[i]))\n",
    "print(\"\\n\\n\")\n",
    "print(\"Решение студента:\")\n",
    "print(test[\"student_solution\"][i])\n",
    "print(\"\\n\\n\")\n",
    "print(\"Авторское решение:\")\n",
    "print(test[\"author_solution\"][i])"
   ]
  },
  {
   "cell_type": "code",
   "execution_count": 6,
   "metadata": {},
   "outputs": [
    {
     "name": "stderr",
     "output_type": "stream",
     "text": [
      "Predicting: 100%|██████████| 325/325 [20:42<00:00,  3.82s/it]\n"
     ]
    }
   ],
   "source": [
    "generate_submit(\n",
    "    test_solutions_path=\"../data/test/merged.xlsx\",\n",
    "    predict_func=predict,\n",
    "    save_path=\"../data/processed/yandexgpt_pro_baseline.csv\",\n",
    "    use_tqdm=True,\n",
    ")"
   ]
  },
  {
   "cell_type": "code",
   "execution_count": null,
   "metadata": {},
   "outputs": [],
   "source": []
  }
 ],
 "metadata": {
  "kernelspec": {
   "display_name": "hse-aiahp-baseline-0zVz7hvw-py3.11",
   "language": "python",
   "name": "python3"
  },
  "language_info": {
   "codemirror_mode": {
    "name": "ipython",
    "version": 3
   },
   "file_extension": ".py",
   "mimetype": "text/x-python",
   "name": "python",
   "nbconvert_exporter": "python",
   "pygments_lexer": "ipython3",
   "version": "3.11.4"
  }
 },
 "nbformat": 4,
 "nbformat_minor": 2
}
