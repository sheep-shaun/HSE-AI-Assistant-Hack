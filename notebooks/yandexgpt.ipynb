{
 "cells": [
  {
   "cell_type": "code",
   "id": "initial_id",
   "metadata": {
    "collapsed": true
   },
   "source": [
    "import os\n",
    "\n",
    "import pandas as pd\n",
    "from dotenv import load_dotenv\n",
    "\n",
    "from app.models.yandexgpt import YandexGPT\n",
    "\n",
    "load_dotenv()\n",
    "\n",
    "yandex_gpt = YandexGPT(\n",
    "    token=os.environ[\"YANDEX_GPT_IAM_TOKEN\"],\n",
    "    folder_id=os.environ[\"YANDEX_GPT_FOLDER_ID\"],\n",
    "    system_prompt=\"Ты - профессиональный программист и ментор. Давай очень короткие ответы о синтаксических ошибках в коде, если они есть.\",\n",
    ")"
   ],
   "outputs": [],
   "execution_count": null
  },
  {
   "metadata": {},
   "cell_type": "code",
   "source": [
    "from app.utils.submit import generate_submit\n",
    "\n",
    "\n",
    "def predict(row: pd.Series) -> str:\n",
    "    return yandex_gpt.ask(row[\"student_solution\"])\n",
    "\n",
    "\n",
    "generate_submit(\n",
    "    test_solutions_path=\"../data/raw/test/solutions.xlsx\",\n",
    "    predict_func=predict,\n",
    "    save_path=\"../data/processed/submission.csv\",\n",
    "    use_tqdm=True,\n",
    ")"
   ],
   "id": "e4365a5b58ee1393",
   "outputs": [],
   "execution_count": null
  },
  {
   "metadata": {},
   "cell_type": "code",
   "source": "",
   "id": "a0526506ea36bc50",
   "outputs": [],
   "execution_count": null
  }
 ],
 "metadata": {
  "kernelspec": {
   "display_name": "Python 3",
   "language": "python",
   "name": "python3"
  },
  "language_info": {
   "codemirror_mode": {
    "name": "ipython",
    "version": 2
   },
   "file_extension": ".py",
   "mimetype": "text/x-python",
   "name": "python",
   "nbconvert_exporter": "python",
   "pygments_lexer": "ipython2",
   "version": "2.7.6"
  }
 },
 "nbformat": 4,
 "nbformat_minor": 5
}
